{
 "cells": [
  {
   "cell_type": "markdown",
   "metadata": {},
   "source": [
    "# Описание проекта\n",
    "\n",
    "Подготовьте прототип модели машинного обучения для «Цифры». Компания разрабатывает решения для эффективной работы промышленных предприятий.\n",
    "\n",
    "Модель должна предсказать коэффициент восстановления золота из золотосодержащей руды. В вашем распоряжении данные с параметрами добычи и очистки. \n",
    "\n",
    "Модель поможет оптимизировать производство, чтобы не запускать предприятие с убыточными характеристиками.\n",
    "\n",
    "Вам нужно:\n",
    "\n",
    "1. Подготовить данные;\n",
    "2. Провести исследовательский анализ данных;\n",
    "3. Построить и обучить модель.\n",
    "\n",
    "Чтобы выполнить проект, обращайтесь к библиотекам *pandas*, *matplotlib* и *sklearn.* Вам поможет их документация."
   ]
  },
  {
   "cell_type": "markdown",
   "metadata": {},
   "source": [
    "# 1. Подготовка данных"
   ]
  },
  {
   "cell_type": "markdown",
   "metadata": {},
   "source": [
    "Импортируем данные."
   ]
  },
  {
   "cell_type": "code",
   "execution_count": 1,
   "metadata": {},
   "outputs": [],
   "source": [
    "import pandas as pd\n",
    "data_train = pd.read_csv('/datasets/gold_recovery_train.csv')\n",
    "data_test = pd.read_csv('/datasets/gold_recovery_test.csv')\n",
    "data_full = pd.read_csv('/datasets/gold_recovery_full.csv')"
   ]
  },
  {
   "cell_type": "code",
   "execution_count": 2,
   "metadata": {},
   "outputs": [
    {
     "data": {
      "text/html": [
       "<div>\n",
       "<style scoped>\n",
       "    .dataframe tbody tr th:only-of-type {\n",
       "        vertical-align: middle;\n",
       "    }\n",
       "\n",
       "    .dataframe tbody tr th {\n",
       "        vertical-align: top;\n",
       "    }\n",
       "\n",
       "    .dataframe thead th {\n",
       "        text-align: right;\n",
       "    }\n",
       "</style>\n",
       "<table border=\"1\" class=\"dataframe\">\n",
       "  <thead>\n",
       "    <tr style=\"text-align: right;\">\n",
       "      <th></th>\n",
       "      <th>date</th>\n",
       "      <th>final.output.concentrate_ag</th>\n",
       "      <th>final.output.concentrate_pb</th>\n",
       "      <th>final.output.concentrate_sol</th>\n",
       "      <th>final.output.concentrate_au</th>\n",
       "      <th>final.output.recovery</th>\n",
       "      <th>final.output.tail_ag</th>\n",
       "      <th>final.output.tail_pb</th>\n",
       "      <th>final.output.tail_sol</th>\n",
       "      <th>final.output.tail_au</th>\n",
       "      <th>...</th>\n",
       "      <th>secondary_cleaner.state.floatbank4_a_air</th>\n",
       "      <th>secondary_cleaner.state.floatbank4_a_level</th>\n",
       "      <th>secondary_cleaner.state.floatbank4_b_air</th>\n",
       "      <th>secondary_cleaner.state.floatbank4_b_level</th>\n",
       "      <th>secondary_cleaner.state.floatbank5_a_air</th>\n",
       "      <th>secondary_cleaner.state.floatbank5_a_level</th>\n",
       "      <th>secondary_cleaner.state.floatbank5_b_air</th>\n",
       "      <th>secondary_cleaner.state.floatbank5_b_level</th>\n",
       "      <th>secondary_cleaner.state.floatbank6_a_air</th>\n",
       "      <th>secondary_cleaner.state.floatbank6_a_level</th>\n",
       "    </tr>\n",
       "  </thead>\n",
       "  <tbody>\n",
       "    <tr>\n",
       "      <td>0</td>\n",
       "      <td>2016-01-15 00:00:00</td>\n",
       "      <td>6.055403</td>\n",
       "      <td>9.889648</td>\n",
       "      <td>5.507324</td>\n",
       "      <td>42.192020</td>\n",
       "      <td>70.541216</td>\n",
       "      <td>10.411962</td>\n",
       "      <td>0.895447</td>\n",
       "      <td>16.904297</td>\n",
       "      <td>2.143149</td>\n",
       "      <td>...</td>\n",
       "      <td>14.016835</td>\n",
       "      <td>-502.488007</td>\n",
       "      <td>12.099931</td>\n",
       "      <td>-504.715942</td>\n",
       "      <td>9.925633</td>\n",
       "      <td>-498.310211</td>\n",
       "      <td>8.079666</td>\n",
       "      <td>-500.470978</td>\n",
       "      <td>14.151341</td>\n",
       "      <td>-605.841980</td>\n",
       "    </tr>\n",
       "    <tr>\n",
       "      <td>1</td>\n",
       "      <td>2016-01-15 01:00:00</td>\n",
       "      <td>6.029369</td>\n",
       "      <td>9.968944</td>\n",
       "      <td>5.257781</td>\n",
       "      <td>42.701629</td>\n",
       "      <td>69.266198</td>\n",
       "      <td>10.462676</td>\n",
       "      <td>0.927452</td>\n",
       "      <td>16.634514</td>\n",
       "      <td>2.224930</td>\n",
       "      <td>...</td>\n",
       "      <td>13.992281</td>\n",
       "      <td>-505.503262</td>\n",
       "      <td>11.950531</td>\n",
       "      <td>-501.331529</td>\n",
       "      <td>10.039245</td>\n",
       "      <td>-500.169983</td>\n",
       "      <td>7.984757</td>\n",
       "      <td>-500.582168</td>\n",
       "      <td>13.998353</td>\n",
       "      <td>-599.787184</td>\n",
       "    </tr>\n",
       "    <tr>\n",
       "      <td>2</td>\n",
       "      <td>2016-01-15 02:00:00</td>\n",
       "      <td>6.055926</td>\n",
       "      <td>10.213995</td>\n",
       "      <td>5.383759</td>\n",
       "      <td>42.657501</td>\n",
       "      <td>68.116445</td>\n",
       "      <td>10.507046</td>\n",
       "      <td>0.953716</td>\n",
       "      <td>16.208849</td>\n",
       "      <td>2.257889</td>\n",
       "      <td>...</td>\n",
       "      <td>14.015015</td>\n",
       "      <td>-502.520901</td>\n",
       "      <td>11.912783</td>\n",
       "      <td>-501.133383</td>\n",
       "      <td>10.070913</td>\n",
       "      <td>-500.129135</td>\n",
       "      <td>8.013877</td>\n",
       "      <td>-500.517572</td>\n",
       "      <td>14.028663</td>\n",
       "      <td>-601.427363</td>\n",
       "    </tr>\n",
       "    <tr>\n",
       "      <td>3</td>\n",
       "      <td>2016-01-15 03:00:00</td>\n",
       "      <td>6.047977</td>\n",
       "      <td>9.977019</td>\n",
       "      <td>4.858634</td>\n",
       "      <td>42.689819</td>\n",
       "      <td>68.347543</td>\n",
       "      <td>10.422762</td>\n",
       "      <td>0.883763</td>\n",
       "      <td>16.532835</td>\n",
       "      <td>2.146849</td>\n",
       "      <td>...</td>\n",
       "      <td>14.036510</td>\n",
       "      <td>-500.857308</td>\n",
       "      <td>11.999550</td>\n",
       "      <td>-501.193686</td>\n",
       "      <td>9.970366</td>\n",
       "      <td>-499.201640</td>\n",
       "      <td>7.977324</td>\n",
       "      <td>-500.255908</td>\n",
       "      <td>14.005551</td>\n",
       "      <td>-599.996129</td>\n",
       "    </tr>\n",
       "    <tr>\n",
       "      <td>4</td>\n",
       "      <td>2016-01-15 04:00:00</td>\n",
       "      <td>6.148599</td>\n",
       "      <td>10.142511</td>\n",
       "      <td>4.939416</td>\n",
       "      <td>42.774141</td>\n",
       "      <td>66.927016</td>\n",
       "      <td>10.360302</td>\n",
       "      <td>0.792826</td>\n",
       "      <td>16.525686</td>\n",
       "      <td>2.055292</td>\n",
       "      <td>...</td>\n",
       "      <td>14.027298</td>\n",
       "      <td>-499.838632</td>\n",
       "      <td>11.953070</td>\n",
       "      <td>-501.053894</td>\n",
       "      <td>9.925709</td>\n",
       "      <td>-501.686727</td>\n",
       "      <td>7.894242</td>\n",
       "      <td>-500.356035</td>\n",
       "      <td>13.996647</td>\n",
       "      <td>-601.496691</td>\n",
       "    </tr>\n",
       "  </tbody>\n",
       "</table>\n",
       "<p>5 rows × 87 columns</p>\n",
       "</div>"
      ],
      "text/plain": [
       "                  date  final.output.concentrate_ag  \\\n",
       "0  2016-01-15 00:00:00                     6.055403   \n",
       "1  2016-01-15 01:00:00                     6.029369   \n",
       "2  2016-01-15 02:00:00                     6.055926   \n",
       "3  2016-01-15 03:00:00                     6.047977   \n",
       "4  2016-01-15 04:00:00                     6.148599   \n",
       "\n",
       "   final.output.concentrate_pb  final.output.concentrate_sol  \\\n",
       "0                     9.889648                      5.507324   \n",
       "1                     9.968944                      5.257781   \n",
       "2                    10.213995                      5.383759   \n",
       "3                     9.977019                      4.858634   \n",
       "4                    10.142511                      4.939416   \n",
       "\n",
       "   final.output.concentrate_au  final.output.recovery  final.output.tail_ag  \\\n",
       "0                    42.192020              70.541216             10.411962   \n",
       "1                    42.701629              69.266198             10.462676   \n",
       "2                    42.657501              68.116445             10.507046   \n",
       "3                    42.689819              68.347543             10.422762   \n",
       "4                    42.774141              66.927016             10.360302   \n",
       "\n",
       "   final.output.tail_pb  final.output.tail_sol  final.output.tail_au  ...  \\\n",
       "0              0.895447              16.904297              2.143149  ...   \n",
       "1              0.927452              16.634514              2.224930  ...   \n",
       "2              0.953716              16.208849              2.257889  ...   \n",
       "3              0.883763              16.532835              2.146849  ...   \n",
       "4              0.792826              16.525686              2.055292  ...   \n",
       "\n",
       "   secondary_cleaner.state.floatbank4_a_air  \\\n",
       "0                                 14.016835   \n",
       "1                                 13.992281   \n",
       "2                                 14.015015   \n",
       "3                                 14.036510   \n",
       "4                                 14.027298   \n",
       "\n",
       "   secondary_cleaner.state.floatbank4_a_level  \\\n",
       "0                                 -502.488007   \n",
       "1                                 -505.503262   \n",
       "2                                 -502.520901   \n",
       "3                                 -500.857308   \n",
       "4                                 -499.838632   \n",
       "\n",
       "   secondary_cleaner.state.floatbank4_b_air  \\\n",
       "0                                 12.099931   \n",
       "1                                 11.950531   \n",
       "2                                 11.912783   \n",
       "3                                 11.999550   \n",
       "4                                 11.953070   \n",
       "\n",
       "   secondary_cleaner.state.floatbank4_b_level  \\\n",
       "0                                 -504.715942   \n",
       "1                                 -501.331529   \n",
       "2                                 -501.133383   \n",
       "3                                 -501.193686   \n",
       "4                                 -501.053894   \n",
       "\n",
       "   secondary_cleaner.state.floatbank5_a_air  \\\n",
       "0                                  9.925633   \n",
       "1                                 10.039245   \n",
       "2                                 10.070913   \n",
       "3                                  9.970366   \n",
       "4                                  9.925709   \n",
       "\n",
       "   secondary_cleaner.state.floatbank5_a_level  \\\n",
       "0                                 -498.310211   \n",
       "1                                 -500.169983   \n",
       "2                                 -500.129135   \n",
       "3                                 -499.201640   \n",
       "4                                 -501.686727   \n",
       "\n",
       "   secondary_cleaner.state.floatbank5_b_air  \\\n",
       "0                                  8.079666   \n",
       "1                                  7.984757   \n",
       "2                                  8.013877   \n",
       "3                                  7.977324   \n",
       "4                                  7.894242   \n",
       "\n",
       "   secondary_cleaner.state.floatbank5_b_level  \\\n",
       "0                                 -500.470978   \n",
       "1                                 -500.582168   \n",
       "2                                 -500.517572   \n",
       "3                                 -500.255908   \n",
       "4                                 -500.356035   \n",
       "\n",
       "   secondary_cleaner.state.floatbank6_a_air  \\\n",
       "0                                 14.151341   \n",
       "1                                 13.998353   \n",
       "2                                 14.028663   \n",
       "3                                 14.005551   \n",
       "4                                 13.996647   \n",
       "\n",
       "   secondary_cleaner.state.floatbank6_a_level  \n",
       "0                                 -605.841980  \n",
       "1                                 -599.787184  \n",
       "2                                 -601.427363  \n",
       "3                                 -599.996129  \n",
       "4                                 -601.496691  \n",
       "\n",
       "[5 rows x 87 columns]"
      ]
     },
     "execution_count": 2,
     "metadata": {},
     "output_type": "execute_result"
    }
   ],
   "source": [
    "data_train.head()"
   ]
  },
  {
   "cell_type": "code",
   "execution_count": 3,
   "metadata": {},
   "outputs": [
    {
     "name": "stdout",
     "output_type": "stream",
     "text": [
      "<class 'pandas.core.frame.DataFrame'>\n",
      "RangeIndex: 16860 entries, 0 to 16859\n",
      "Data columns (total 87 columns):\n",
      "date                                                  16860 non-null object\n",
      "final.output.concentrate_ag                           16788 non-null float64\n",
      "final.output.concentrate_pb                           16788 non-null float64\n",
      "final.output.concentrate_sol                          16490 non-null float64\n",
      "final.output.concentrate_au                           16789 non-null float64\n",
      "final.output.recovery                                 15339 non-null float64\n",
      "final.output.tail_ag                                  16794 non-null float64\n",
      "final.output.tail_pb                                  16677 non-null float64\n",
      "final.output.tail_sol                                 16715 non-null float64\n",
      "final.output.tail_au                                  16794 non-null float64\n",
      "primary_cleaner.input.sulfate                         15553 non-null float64\n",
      "primary_cleaner.input.depressant                      15598 non-null float64\n",
      "primary_cleaner.input.feed_size                       16860 non-null float64\n",
      "primary_cleaner.input.xanthate                        15875 non-null float64\n",
      "primary_cleaner.output.concentrate_ag                 16778 non-null float64\n",
      "primary_cleaner.output.concentrate_pb                 16502 non-null float64\n",
      "primary_cleaner.output.concentrate_sol                16224 non-null float64\n",
      "primary_cleaner.output.concentrate_au                 16778 non-null float64\n",
      "primary_cleaner.output.tail_ag                        16777 non-null float64\n",
      "primary_cleaner.output.tail_pb                        16761 non-null float64\n",
      "primary_cleaner.output.tail_sol                       16579 non-null float64\n",
      "primary_cleaner.output.tail_au                        16777 non-null float64\n",
      "primary_cleaner.state.floatbank8_a_air                16820 non-null float64\n",
      "primary_cleaner.state.floatbank8_a_level              16827 non-null float64\n",
      "primary_cleaner.state.floatbank8_b_air                16820 non-null float64\n",
      "primary_cleaner.state.floatbank8_b_level              16833 non-null float64\n",
      "primary_cleaner.state.floatbank8_c_air                16822 non-null float64\n",
      "primary_cleaner.state.floatbank8_c_level              16833 non-null float64\n",
      "primary_cleaner.state.floatbank8_d_air                16821 non-null float64\n",
      "primary_cleaner.state.floatbank8_d_level              16833 non-null float64\n",
      "rougher.calculation.sulfate_to_au_concentrate         16833 non-null float64\n",
      "rougher.calculation.floatbank10_sulfate_to_au_feed    16833 non-null float64\n",
      "rougher.calculation.floatbank11_sulfate_to_au_feed    16833 non-null float64\n",
      "rougher.calculation.au_pb_ratio                       15618 non-null float64\n",
      "rougher.input.feed_ag                                 16778 non-null float64\n",
      "rougher.input.feed_pb                                 16632 non-null float64\n",
      "rougher.input.feed_rate                               16347 non-null float64\n",
      "rougher.input.feed_size                               16443 non-null float64\n",
      "rougher.input.feed_sol                                16568 non-null float64\n",
      "rougher.input.feed_au                                 16777 non-null float64\n",
      "rougher.input.floatbank10_sulfate                     15816 non-null float64\n",
      "rougher.input.floatbank10_xanthate                    16514 non-null float64\n",
      "rougher.input.floatbank11_sulfate                     16237 non-null float64\n",
      "rougher.input.floatbank11_xanthate                    14956 non-null float64\n",
      "rougher.output.concentrate_ag                         16778 non-null float64\n",
      "rougher.output.concentrate_pb                         16778 non-null float64\n",
      "rougher.output.concentrate_sol                        16698 non-null float64\n",
      "rougher.output.concentrate_au                         16778 non-null float64\n",
      "rougher.output.recovery                               14287 non-null float64\n",
      "rougher.output.tail_ag                                14610 non-null float64\n",
      "rougher.output.tail_pb                                16778 non-null float64\n",
      "rougher.output.tail_sol                               14611 non-null float64\n",
      "rougher.output.tail_au                                14611 non-null float64\n",
      "rougher.state.floatbank10_a_air                       16807 non-null float64\n",
      "rougher.state.floatbank10_a_level                     16807 non-null float64\n",
      "rougher.state.floatbank10_b_air                       16807 non-null float64\n",
      "rougher.state.floatbank10_b_level                     16807 non-null float64\n",
      "rougher.state.floatbank10_c_air                       16807 non-null float64\n",
      "rougher.state.floatbank10_c_level                     16814 non-null float64\n",
      "rougher.state.floatbank10_d_air                       16802 non-null float64\n",
      "rougher.state.floatbank10_d_level                     16809 non-null float64\n",
      "rougher.state.floatbank10_e_air                       16257 non-null float64\n",
      "rougher.state.floatbank10_e_level                     16809 non-null float64\n",
      "rougher.state.floatbank10_f_air                       16802 non-null float64\n",
      "rougher.state.floatbank10_f_level                     16802 non-null float64\n",
      "secondary_cleaner.output.tail_ag                      16776 non-null float64\n",
      "secondary_cleaner.output.tail_pb                      16764 non-null float64\n",
      "secondary_cleaner.output.tail_sol                     14874 non-null float64\n",
      "secondary_cleaner.output.tail_au                      16778 non-null float64\n",
      "secondary_cleaner.state.floatbank2_a_air              16497 non-null float64\n",
      "secondary_cleaner.state.floatbank2_a_level            16751 non-null float64\n",
      "secondary_cleaner.state.floatbank2_b_air              16705 non-null float64\n",
      "secondary_cleaner.state.floatbank2_b_level            16748 non-null float64\n",
      "secondary_cleaner.state.floatbank3_a_air              16763 non-null float64\n",
      "secondary_cleaner.state.floatbank3_a_level            16747 non-null float64\n",
      "secondary_cleaner.state.floatbank3_b_air              16752 non-null float64\n",
      "secondary_cleaner.state.floatbank3_b_level            16750 non-null float64\n",
      "secondary_cleaner.state.floatbank4_a_air              16731 non-null float64\n",
      "secondary_cleaner.state.floatbank4_a_level            16747 non-null float64\n",
      "secondary_cleaner.state.floatbank4_b_air              16768 non-null float64\n",
      "secondary_cleaner.state.floatbank4_b_level            16767 non-null float64\n",
      "secondary_cleaner.state.floatbank5_a_air              16775 non-null float64\n",
      "secondary_cleaner.state.floatbank5_a_level            16775 non-null float64\n",
      "secondary_cleaner.state.floatbank5_b_air              16775 non-null float64\n",
      "secondary_cleaner.state.floatbank5_b_level            16776 non-null float64\n",
      "secondary_cleaner.state.floatbank6_a_air              16757 non-null float64\n",
      "secondary_cleaner.state.floatbank6_a_level            16775 non-null float64\n",
      "dtypes: float64(86), object(1)\n",
      "memory usage: 11.2+ MB\n"
     ]
    }
   ],
   "source": [
    "data_train.info()"
   ]
  },
  {
   "cell_type": "code",
   "execution_count": 4,
   "metadata": {},
   "outputs": [
    {
     "name": "stdout",
     "output_type": "stream",
     "text": [
      "<class 'pandas.core.frame.DataFrame'>\n",
      "RangeIndex: 22716 entries, 0 to 22715\n",
      "Data columns (total 87 columns):\n",
      "date                                                  22716 non-null object\n",
      "final.output.concentrate_ag                           22627 non-null float64\n",
      "final.output.concentrate_pb                           22629 non-null float64\n",
      "final.output.concentrate_sol                          22331 non-null float64\n",
      "final.output.concentrate_au                           22630 non-null float64\n",
      "final.output.recovery                                 20753 non-null float64\n",
      "final.output.tail_ag                                  22633 non-null float64\n",
      "final.output.tail_pb                                  22516 non-null float64\n",
      "final.output.tail_sol                                 22445 non-null float64\n",
      "final.output.tail_au                                  22635 non-null float64\n",
      "primary_cleaner.input.sulfate                         21107 non-null float64\n",
      "primary_cleaner.input.depressant                      21170 non-null float64\n",
      "primary_cleaner.input.feed_size                       22716 non-null float64\n",
      "primary_cleaner.input.xanthate                        21565 non-null float64\n",
      "primary_cleaner.output.concentrate_ag                 22618 non-null float64\n",
      "primary_cleaner.output.concentrate_pb                 22268 non-null float64\n",
      "primary_cleaner.output.concentrate_sol                21918 non-null float64\n",
      "primary_cleaner.output.concentrate_au                 22618 non-null float64\n",
      "primary_cleaner.output.tail_ag                        22614 non-null float64\n",
      "primary_cleaner.output.tail_pb                        22594 non-null float64\n",
      "primary_cleaner.output.tail_sol                       22365 non-null float64\n",
      "primary_cleaner.output.tail_au                        22617 non-null float64\n",
      "primary_cleaner.state.floatbank8_a_air                22660 non-null float64\n",
      "primary_cleaner.state.floatbank8_a_level              22667 non-null float64\n",
      "primary_cleaner.state.floatbank8_b_air                22660 non-null float64\n",
      "primary_cleaner.state.floatbank8_b_level              22673 non-null float64\n",
      "primary_cleaner.state.floatbank8_c_air                22662 non-null float64\n",
      "primary_cleaner.state.floatbank8_c_level              22673 non-null float64\n",
      "primary_cleaner.state.floatbank8_d_air                22661 non-null float64\n",
      "primary_cleaner.state.floatbank8_d_level              22673 non-null float64\n",
      "rougher.calculation.sulfate_to_au_concentrate         22672 non-null float64\n",
      "rougher.calculation.floatbank10_sulfate_to_au_feed    22672 non-null float64\n",
      "rougher.calculation.floatbank11_sulfate_to_au_feed    22672 non-null float64\n",
      "rougher.calculation.au_pb_ratio                       21089 non-null float64\n",
      "rougher.input.feed_ag                                 22618 non-null float64\n",
      "rougher.input.feed_pb                                 22472 non-null float64\n",
      "rougher.input.feed_rate                               22163 non-null float64\n",
      "rougher.input.feed_size                               22277 non-null float64\n",
      "rougher.input.feed_sol                                22357 non-null float64\n",
      "rougher.input.feed_au                                 22617 non-null float64\n",
      "rougher.input.floatbank10_sulfate                     21415 non-null float64\n",
      "rougher.input.floatbank10_xanthate                    22247 non-null float64\n",
      "rougher.input.floatbank11_sulfate                     22038 non-null float64\n",
      "rougher.input.floatbank11_xanthate                    20459 non-null float64\n",
      "rougher.output.concentrate_ag                         22618 non-null float64\n",
      "rougher.output.concentrate_pb                         22618 non-null float64\n",
      "rougher.output.concentrate_sol                        22526 non-null float64\n",
      "rougher.output.concentrate_au                         22618 non-null float64\n",
      "rougher.output.recovery                               19597 non-null float64\n",
      "rougher.output.tail_ag                                19979 non-null float64\n",
      "rougher.output.tail_pb                                22618 non-null float64\n",
      "rougher.output.tail_sol                               19980 non-null float64\n",
      "rougher.output.tail_au                                19980 non-null float64\n",
      "rougher.state.floatbank10_a_air                       22646 non-null float64\n",
      "rougher.state.floatbank10_a_level                     22647 non-null float64\n",
      "rougher.state.floatbank10_b_air                       22646 non-null float64\n",
      "rougher.state.floatbank10_b_level                     22647 non-null float64\n",
      "rougher.state.floatbank10_c_air                       22646 non-null float64\n",
      "rougher.state.floatbank10_c_level                     22654 non-null float64\n",
      "rougher.state.floatbank10_d_air                       22641 non-null float64\n",
      "rougher.state.floatbank10_d_level                     22649 non-null float64\n",
      "rougher.state.floatbank10_e_air                       22096 non-null float64\n",
      "rougher.state.floatbank10_e_level                     22649 non-null float64\n",
      "rougher.state.floatbank10_f_air                       22641 non-null float64\n",
      "rougher.state.floatbank10_f_level                     22642 non-null float64\n",
      "secondary_cleaner.output.tail_ag                      22616 non-null float64\n",
      "secondary_cleaner.output.tail_pb                      22600 non-null float64\n",
      "secondary_cleaner.output.tail_sol                     20501 non-null float64\n",
      "secondary_cleaner.output.tail_au                      22618 non-null float64\n",
      "secondary_cleaner.state.floatbank2_a_air              22333 non-null float64\n",
      "secondary_cleaner.state.floatbank2_a_level            22591 non-null float64\n",
      "secondary_cleaner.state.floatbank2_b_air              22538 non-null float64\n",
      "secondary_cleaner.state.floatbank2_b_level            22588 non-null float64\n",
      "secondary_cleaner.state.floatbank3_a_air              22585 non-null float64\n",
      "secondary_cleaner.state.floatbank3_a_level            22587 non-null float64\n",
      "secondary_cleaner.state.floatbank3_b_air              22592 non-null float64\n",
      "secondary_cleaner.state.floatbank3_b_level            22590 non-null float64\n",
      "secondary_cleaner.state.floatbank4_a_air              22571 non-null float64\n",
      "secondary_cleaner.state.floatbank4_a_level            22587 non-null float64\n",
      "secondary_cleaner.state.floatbank4_b_air              22608 non-null float64\n",
      "secondary_cleaner.state.floatbank4_b_level            22607 non-null float64\n",
      "secondary_cleaner.state.floatbank5_a_air              22615 non-null float64\n",
      "secondary_cleaner.state.floatbank5_a_level            22615 non-null float64\n",
      "secondary_cleaner.state.floatbank5_b_air              22615 non-null float64\n",
      "secondary_cleaner.state.floatbank5_b_level            22616 non-null float64\n",
      "secondary_cleaner.state.floatbank6_a_air              22597 non-null float64\n",
      "secondary_cleaner.state.floatbank6_a_level            22615 non-null float64\n",
      "dtypes: float64(86), object(1)\n",
      "memory usage: 15.1+ MB\n"
     ]
    }
   ],
   "source": [
    "data_full.info()"
   ]
  },
  {
   "cell_type": "markdown",
   "metadata": {},
   "source": [
    "Расчитаем эффективность обогащения и сравним ее с представленными в обучающей выборке данными. "
   ]
  },
  {
   "cell_type": "code",
   "execution_count": 5,
   "metadata": {},
   "outputs": [],
   "source": [
    "data_train['theory_rougher.output.recovery'] = (data_train['rougher.output.concentrate_au']*(data_train['rougher.input.feed_au']-data_train['rougher.output.tail_au'])) / (data_train['rougher.input.feed_au']*(data_train['rougher.output.concentrate_au']-data_train['rougher.output.tail_au']))*100"
   ]
  },
  {
   "cell_type": "markdown",
   "metadata": {},
   "source": [
    "Сравним фактические значения со значениями, полученными теоретическим путем."
   ]
  },
  {
   "cell_type": "code",
   "execution_count": 6,
   "metadata": {},
   "outputs": [
    {
     "data": {
      "text/html": [
       "<div>\n",
       "<style scoped>\n",
       "    .dataframe tbody tr th:only-of-type {\n",
       "        vertical-align: middle;\n",
       "    }\n",
       "\n",
       "    .dataframe tbody tr th {\n",
       "        vertical-align: top;\n",
       "    }\n",
       "\n",
       "    .dataframe thead th {\n",
       "        text-align: right;\n",
       "    }\n",
       "</style>\n",
       "<table border=\"1\" class=\"dataframe\">\n",
       "  <thead>\n",
       "    <tr style=\"text-align: right;\">\n",
       "      <th></th>\n",
       "      <th>theory_rougher.output.recovery</th>\n",
       "      <th>rougher.output.recovery</th>\n",
       "    </tr>\n",
       "  </thead>\n",
       "  <tbody>\n",
       "    <tr>\n",
       "      <td>0</td>\n",
       "      <td>87.107763</td>\n",
       "      <td>87.107763</td>\n",
       "    </tr>\n",
       "    <tr>\n",
       "      <td>1</td>\n",
       "      <td>86.843261</td>\n",
       "      <td>86.843261</td>\n",
       "    </tr>\n",
       "    <tr>\n",
       "      <td>2</td>\n",
       "      <td>86.842308</td>\n",
       "      <td>86.842308</td>\n",
       "    </tr>\n",
       "    <tr>\n",
       "      <td>3</td>\n",
       "      <td>87.226430</td>\n",
       "      <td>87.226430</td>\n",
       "    </tr>\n",
       "    <tr>\n",
       "      <td>4</td>\n",
       "      <td>86.688794</td>\n",
       "      <td>86.688794</td>\n",
       "    </tr>\n",
       "    <tr>\n",
       "      <td>5</td>\n",
       "      <td>88.156912</td>\n",
       "      <td>88.156912</td>\n",
       "    </tr>\n",
       "    <tr>\n",
       "      <td>6</td>\n",
       "      <td>88.168065</td>\n",
       "      <td>88.168065</td>\n",
       "    </tr>\n",
       "    <tr>\n",
       "      <td>7</td>\n",
       "      <td>87.668336</td>\n",
       "      <td>87.668336</td>\n",
       "    </tr>\n",
       "    <tr>\n",
       "      <td>8</td>\n",
       "      <td>87.035862</td>\n",
       "      <td>87.035862</td>\n",
       "    </tr>\n",
       "    <tr>\n",
       "      <td>9</td>\n",
       "      <td>87.650868</td>\n",
       "      <td>87.650868</td>\n",
       "    </tr>\n",
       "    <tr>\n",
       "      <td>10</td>\n",
       "      <td>88.280699</td>\n",
       "      <td>88.280699</td>\n",
       "    </tr>\n",
       "    <tr>\n",
       "      <td>11</td>\n",
       "      <td>88.499117</td>\n",
       "      <td>88.499117</td>\n",
       "    </tr>\n",
       "    <tr>\n",
       "      <td>12</td>\n",
       "      <td>89.299981</td>\n",
       "      <td>89.299981</td>\n",
       "    </tr>\n",
       "    <tr>\n",
       "      <td>13</td>\n",
       "      <td>89.519701</td>\n",
       "      <td>89.519701</td>\n",
       "    </tr>\n",
       "    <tr>\n",
       "      <td>14</td>\n",
       "      <td>87.235441</td>\n",
       "      <td>87.235441</td>\n",
       "    </tr>\n",
       "    <tr>\n",
       "      <td>15</td>\n",
       "      <td>85.136294</td>\n",
       "      <td>85.136294</td>\n",
       "    </tr>\n",
       "    <tr>\n",
       "      <td>16</td>\n",
       "      <td>85.443505</td>\n",
       "      <td>85.443505</td>\n",
       "    </tr>\n",
       "    <tr>\n",
       "      <td>17</td>\n",
       "      <td>86.489827</td>\n",
       "      <td>86.489827</td>\n",
       "    </tr>\n",
       "    <tr>\n",
       "      <td>18</td>\n",
       "      <td>85.462226</td>\n",
       "      <td>85.462226</td>\n",
       "    </tr>\n",
       "    <tr>\n",
       "      <td>19</td>\n",
       "      <td>86.241795</td>\n",
       "      <td>86.241795</td>\n",
       "    </tr>\n",
       "  </tbody>\n",
       "</table>\n",
       "</div>"
      ],
      "text/plain": [
       "    theory_rougher.output.recovery  rougher.output.recovery\n",
       "0                        87.107763                87.107763\n",
       "1                        86.843261                86.843261\n",
       "2                        86.842308                86.842308\n",
       "3                        87.226430                87.226430\n",
       "4                        86.688794                86.688794\n",
       "5                        88.156912                88.156912\n",
       "6                        88.168065                88.168065\n",
       "7                        87.668336                87.668336\n",
       "8                        87.035862                87.035862\n",
       "9                        87.650868                87.650868\n",
       "10                       88.280699                88.280699\n",
       "11                       88.499117                88.499117\n",
       "12                       89.299981                89.299981\n",
       "13                       89.519701                89.519701\n",
       "14                       87.235441                87.235441\n",
       "15                       85.136294                85.136294\n",
       "16                       85.443505                85.443505\n",
       "17                       86.489827                86.489827\n",
       "18                       85.462226                85.462226\n",
       "19                       86.241795                86.241795"
      ]
     },
     "execution_count": 6,
     "metadata": {},
     "output_type": "execute_result"
    }
   ],
   "source": [
    "data_train[['theory_rougher.output.recovery','rougher.output.recovery']].head(20)"
   ]
  },
  {
   "cell_type": "markdown",
   "metadata": {},
   "source": [
    "Посмотрим на количество пропусков."
   ]
  },
  {
   "cell_type": "code",
   "execution_count": 7,
   "metadata": {},
   "outputs": [
    {
     "data": {
      "text/plain": [
       "2573"
      ]
     },
     "execution_count": 7,
     "metadata": {},
     "output_type": "execute_result"
    }
   ],
   "source": [
    "data_train['rougher.output.recovery'].isna().sum()"
   ]
  },
  {
   "cell_type": "code",
   "execution_count": 8,
   "metadata": {},
   "outputs": [
    {
     "data": {
      "text/plain": [
       "2283"
      ]
     },
     "execution_count": 8,
     "metadata": {},
     "output_type": "execute_result"
    }
   ],
   "source": [
    "data_train['theory_rougher.output.recovery'].isna().sum()"
   ]
  },
  {
   "cell_type": "markdown",
   "metadata": {},
   "source": [
    "В обучающей выборке больше пропусков, чем в полученных теоретическим путем данных. Для корректного расчета среднего абсолютного отклонения необходими убрать пропуски."
   ]
  },
  {
   "cell_type": "code",
   "execution_count": 9,
   "metadata": {},
   "outputs": [
    {
     "name": "stdout",
     "output_type": "stream",
     "text": [
      "<class 'pandas.core.frame.DataFrame'>\n",
      "Int64Index: 14287 entries, 0 to 16859\n",
      "Data columns (total 2 columns):\n",
      "theory_rougher.output.recovery    14287 non-null float64\n",
      "rougher.output.recovery           14287 non-null float64\n",
      "dtypes: float64(2)\n",
      "memory usage: 334.9 KB\n"
     ]
    }
   ],
   "source": [
    "data_recovery = data_train.loc[:,['theory_rougher.output.recovery','rougher.output.recovery']]\n",
    "#уберем пустые значения, пропущенные в обучающей выборке\n",
    "data_recovery.dropna(subset =['rougher.output.recovery'], inplace=True)\n",
    "data_recovery.info()"
   ]
  },
  {
   "cell_type": "markdown",
   "metadata": {},
   "source": [
    "Найдем MAE между нашими расчётами и значением признака."
   ]
  },
  {
   "cell_type": "code",
   "execution_count": 10,
   "metadata": {},
   "outputs": [
    {
     "data": {
      "text/plain": [
       "0.0"
      ]
     },
     "execution_count": 10,
     "metadata": {},
     "output_type": "execute_result"
    }
   ],
   "source": [
    "from sklearn.metrics import mean_absolute_error\n",
    "mean_absolute_error(data_recovery['theory_rougher.output.recovery'],data_recovery['rougher.output.recovery']).round(4)"
   ]
  },
  {
   "cell_type": "markdown",
   "metadata": {},
   "source": [
    "Теоретические расчитанные значения не отличаются от фактических (среднее абсолютное значение пренебрежимо мало)."
   ]
  },
  {
   "cell_type": "markdown",
   "metadata": {},
   "source": [
    "Проанализируем признаки, недоступные в тестовой выборке."
   ]
  },
  {
   "cell_type": "code",
   "execution_count": 11,
   "metadata": {},
   "outputs": [
    {
     "name": "stdout",
     "output_type": "stream",
     "text": [
      "<class 'pandas.core.frame.DataFrame'>\n",
      "RangeIndex: 5856 entries, 0 to 5855\n",
      "Data columns (total 53 columns):\n",
      "date                                          5856 non-null object\n",
      "primary_cleaner.input.sulfate                 5554 non-null float64\n",
      "primary_cleaner.input.depressant              5572 non-null float64\n",
      "primary_cleaner.input.feed_size               5856 non-null float64\n",
      "primary_cleaner.input.xanthate                5690 non-null float64\n",
      "primary_cleaner.state.floatbank8_a_air        5840 non-null float64\n",
      "primary_cleaner.state.floatbank8_a_level      5840 non-null float64\n",
      "primary_cleaner.state.floatbank8_b_air        5840 non-null float64\n",
      "primary_cleaner.state.floatbank8_b_level      5840 non-null float64\n",
      "primary_cleaner.state.floatbank8_c_air        5840 non-null float64\n",
      "primary_cleaner.state.floatbank8_c_level      5840 non-null float64\n",
      "primary_cleaner.state.floatbank8_d_air        5840 non-null float64\n",
      "primary_cleaner.state.floatbank8_d_level      5840 non-null float64\n",
      "rougher.input.feed_ag                         5840 non-null float64\n",
      "rougher.input.feed_pb                         5840 non-null float64\n",
      "rougher.input.feed_rate                       5816 non-null float64\n",
      "rougher.input.feed_size                       5834 non-null float64\n",
      "rougher.input.feed_sol                        5789 non-null float64\n",
      "rougher.input.feed_au                         5840 non-null float64\n",
      "rougher.input.floatbank10_sulfate             5599 non-null float64\n",
      "rougher.input.floatbank10_xanthate            5733 non-null float64\n",
      "rougher.input.floatbank11_sulfate             5801 non-null float64\n",
      "rougher.input.floatbank11_xanthate            5503 non-null float64\n",
      "rougher.state.floatbank10_a_air               5839 non-null float64\n",
      "rougher.state.floatbank10_a_level             5840 non-null float64\n",
      "rougher.state.floatbank10_b_air               5839 non-null float64\n",
      "rougher.state.floatbank10_b_level             5840 non-null float64\n",
      "rougher.state.floatbank10_c_air               5839 non-null float64\n",
      "rougher.state.floatbank10_c_level             5840 non-null float64\n",
      "rougher.state.floatbank10_d_air               5839 non-null float64\n",
      "rougher.state.floatbank10_d_level             5840 non-null float64\n",
      "rougher.state.floatbank10_e_air               5839 non-null float64\n",
      "rougher.state.floatbank10_e_level             5840 non-null float64\n",
      "rougher.state.floatbank10_f_air               5839 non-null float64\n",
      "rougher.state.floatbank10_f_level             5840 non-null float64\n",
      "secondary_cleaner.state.floatbank2_a_air      5836 non-null float64\n",
      "secondary_cleaner.state.floatbank2_a_level    5840 non-null float64\n",
      "secondary_cleaner.state.floatbank2_b_air      5833 non-null float64\n",
      "secondary_cleaner.state.floatbank2_b_level    5840 non-null float64\n",
      "secondary_cleaner.state.floatbank3_a_air      5822 non-null float64\n",
      "secondary_cleaner.state.floatbank3_a_level    5840 non-null float64\n",
      "secondary_cleaner.state.floatbank3_b_air      5840 non-null float64\n",
      "secondary_cleaner.state.floatbank3_b_level    5840 non-null float64\n",
      "secondary_cleaner.state.floatbank4_a_air      5840 non-null float64\n",
      "secondary_cleaner.state.floatbank4_a_level    5840 non-null float64\n",
      "secondary_cleaner.state.floatbank4_b_air      5840 non-null float64\n",
      "secondary_cleaner.state.floatbank4_b_level    5840 non-null float64\n",
      "secondary_cleaner.state.floatbank5_a_air      5840 non-null float64\n",
      "secondary_cleaner.state.floatbank5_a_level    5840 non-null float64\n",
      "secondary_cleaner.state.floatbank5_b_air      5840 non-null float64\n",
      "secondary_cleaner.state.floatbank5_b_level    5840 non-null float64\n",
      "secondary_cleaner.state.floatbank6_a_air      5840 non-null float64\n",
      "secondary_cleaner.state.floatbank6_a_level    5840 non-null float64\n",
      "dtypes: float64(52), object(1)\n",
      "memory usage: 2.4+ MB\n"
     ]
    }
   ],
   "source": [
    "data_test.info()"
   ]
  },
  {
   "cell_type": "markdown",
   "metadata": {},
   "source": [
    "Узнаем список данных, недоступных в тестовой выборке."
   ]
  },
  {
   "cell_type": "code",
   "execution_count": 12,
   "metadata": {},
   "outputs": [
    {
     "name": "stdout",
     "output_type": "stream",
     "text": [
      "final.output.concentrate_ag\n",
      "final.output.concentrate_au\n",
      "final.output.concentrate_pb\n",
      "final.output.concentrate_sol\n",
      "final.output.recovery\n",
      "final.output.tail_ag\n",
      "final.output.tail_au\n",
      "final.output.tail_pb\n",
      "final.output.tail_sol\n",
      "primary_cleaner.output.concentrate_ag\n",
      "primary_cleaner.output.concentrate_au\n",
      "primary_cleaner.output.concentrate_pb\n",
      "primary_cleaner.output.concentrate_sol\n",
      "primary_cleaner.output.tail_ag\n",
      "primary_cleaner.output.tail_au\n",
      "primary_cleaner.output.tail_pb\n",
      "primary_cleaner.output.tail_sol\n",
      "rougher.calculation.au_pb_ratio\n",
      "rougher.calculation.floatbank10_sulfate_to_au_feed\n",
      "rougher.calculation.floatbank11_sulfate_to_au_feed\n",
      "rougher.calculation.sulfate_to_au_concentrate\n",
      "rougher.output.concentrate_ag\n",
      "rougher.output.concentrate_au\n",
      "rougher.output.concentrate_pb\n",
      "rougher.output.concentrate_sol\n",
      "rougher.output.recovery\n",
      "rougher.output.tail_ag\n",
      "rougher.output.tail_au\n",
      "rougher.output.tail_pb\n",
      "rougher.output.tail_sol\n",
      "secondary_cleaner.output.tail_ag\n",
      "secondary_cleaner.output.tail_au\n",
      "secondary_cleaner.output.tail_pb\n",
      "secondary_cleaner.output.tail_sol\n",
      "theory_rougher.output.recovery\n"
     ]
    }
   ],
   "source": [
    "target_names = list(set(data_train.columns)-set(data_test.columns))\n",
    "target_names.sort()\n",
    "for name in target_names:\n",
    "    print (name)"
   ]
  },
  {
   "cell_type": "code",
   "execution_count": 13,
   "metadata": {},
   "outputs": [
    {
     "data": {
      "text/html": [
       "<div>\n",
       "<style scoped>\n",
       "    .dataframe tbody tr th:only-of-type {\n",
       "        vertical-align: middle;\n",
       "    }\n",
       "\n",
       "    .dataframe tbody tr th {\n",
       "        vertical-align: top;\n",
       "    }\n",
       "\n",
       "    .dataframe thead th {\n",
       "        text-align: right;\n",
       "    }\n",
       "</style>\n",
       "<table border=\"1\" class=\"dataframe\">\n",
       "  <thead>\n",
       "    <tr style=\"text-align: right;\">\n",
       "      <th></th>\n",
       "      <th>final.output.concentrate_ag</th>\n",
       "      <th>final.output.concentrate_au</th>\n",
       "      <th>final.output.concentrate_pb</th>\n",
       "      <th>final.output.concentrate_sol</th>\n",
       "      <th>final.output.recovery</th>\n",
       "      <th>final.output.tail_ag</th>\n",
       "      <th>final.output.tail_au</th>\n",
       "      <th>final.output.tail_pb</th>\n",
       "      <th>final.output.tail_sol</th>\n",
       "      <th>primary_cleaner.output.concentrate_ag</th>\n",
       "      <th>...</th>\n",
       "      <th>rougher.output.recovery</th>\n",
       "      <th>rougher.output.tail_ag</th>\n",
       "      <th>rougher.output.tail_au</th>\n",
       "      <th>rougher.output.tail_pb</th>\n",
       "      <th>rougher.output.tail_sol</th>\n",
       "      <th>secondary_cleaner.output.tail_ag</th>\n",
       "      <th>secondary_cleaner.output.tail_au</th>\n",
       "      <th>secondary_cleaner.output.tail_pb</th>\n",
       "      <th>secondary_cleaner.output.tail_sol</th>\n",
       "      <th>theory_rougher.output.recovery</th>\n",
       "    </tr>\n",
       "  </thead>\n",
       "  <tbody>\n",
       "    <tr>\n",
       "      <td>0</td>\n",
       "      <td>6.055403</td>\n",
       "      <td>42.192020</td>\n",
       "      <td>9.889648</td>\n",
       "      <td>5.507324</td>\n",
       "      <td>70.541216</td>\n",
       "      <td>10.411962</td>\n",
       "      <td>2.143149</td>\n",
       "      <td>0.895447</td>\n",
       "      <td>16.904297</td>\n",
       "      <td>8.547551</td>\n",
       "      <td>...</td>\n",
       "      <td>87.107763</td>\n",
       "      <td>5.008018</td>\n",
       "      <td>1.170244</td>\n",
       "      <td>0.508728</td>\n",
       "      <td>19.154297</td>\n",
       "      <td>14.500184</td>\n",
       "      <td>2.606185</td>\n",
       "      <td>4.694824</td>\n",
       "      <td>8.764648</td>\n",
       "      <td>87.107763</td>\n",
       "    </tr>\n",
       "    <tr>\n",
       "      <td>1</td>\n",
       "      <td>6.029369</td>\n",
       "      <td>42.701629</td>\n",
       "      <td>9.968944</td>\n",
       "      <td>5.257781</td>\n",
       "      <td>69.266198</td>\n",
       "      <td>10.462676</td>\n",
       "      <td>2.224930</td>\n",
       "      <td>0.927452</td>\n",
       "      <td>16.634514</td>\n",
       "      <td>8.558743</td>\n",
       "      <td>...</td>\n",
       "      <td>86.843261</td>\n",
       "      <td>4.955378</td>\n",
       "      <td>1.184827</td>\n",
       "      <td>0.536689</td>\n",
       "      <td>18.965234</td>\n",
       "      <td>14.265474</td>\n",
       "      <td>2.488248</td>\n",
       "      <td>4.592547</td>\n",
       "      <td>9.001494</td>\n",
       "      <td>86.843261</td>\n",
       "    </tr>\n",
       "    <tr>\n",
       "      <td>2</td>\n",
       "      <td>6.055926</td>\n",
       "      <td>42.657501</td>\n",
       "      <td>10.213995</td>\n",
       "      <td>5.383759</td>\n",
       "      <td>68.116445</td>\n",
       "      <td>10.507046</td>\n",
       "      <td>2.257889</td>\n",
       "      <td>0.953716</td>\n",
       "      <td>16.208849</td>\n",
       "      <td>8.603505</td>\n",
       "      <td>...</td>\n",
       "      <td>86.842308</td>\n",
       "      <td>4.843460</td>\n",
       "      <td>1.162562</td>\n",
       "      <td>0.546416</td>\n",
       "      <td>18.808533</td>\n",
       "      <td>14.115662</td>\n",
       "      <td>2.458187</td>\n",
       "      <td>4.624775</td>\n",
       "      <td>8.842896</td>\n",
       "      <td>86.842308</td>\n",
       "    </tr>\n",
       "    <tr>\n",
       "      <td>3</td>\n",
       "      <td>6.047977</td>\n",
       "      <td>42.689819</td>\n",
       "      <td>9.977019</td>\n",
       "      <td>4.858634</td>\n",
       "      <td>68.347543</td>\n",
       "      <td>10.422762</td>\n",
       "      <td>2.146849</td>\n",
       "      <td>0.883763</td>\n",
       "      <td>16.532835</td>\n",
       "      <td>7.221879</td>\n",
       "      <td>...</td>\n",
       "      <td>87.226430</td>\n",
       "      <td>4.655288</td>\n",
       "      <td>1.079755</td>\n",
       "      <td>0.542525</td>\n",
       "      <td>19.330200</td>\n",
       "      <td>13.732071</td>\n",
       "      <td>2.322062</td>\n",
       "      <td>4.482453</td>\n",
       "      <td>9.122857</td>\n",
       "      <td>87.226430</td>\n",
       "    </tr>\n",
       "    <tr>\n",
       "      <td>4</td>\n",
       "      <td>6.148599</td>\n",
       "      <td>42.774141</td>\n",
       "      <td>10.142511</td>\n",
       "      <td>4.939416</td>\n",
       "      <td>66.927016</td>\n",
       "      <td>10.360302</td>\n",
       "      <td>2.055292</td>\n",
       "      <td>0.792826</td>\n",
       "      <td>16.525686</td>\n",
       "      <td>9.089428</td>\n",
       "      <td>...</td>\n",
       "      <td>86.688794</td>\n",
       "      <td>4.552800</td>\n",
       "      <td>1.012642</td>\n",
       "      <td>0.515438</td>\n",
       "      <td>19.267422</td>\n",
       "      <td>14.079996</td>\n",
       "      <td>2.330448</td>\n",
       "      <td>4.470737</td>\n",
       "      <td>8.871028</td>\n",
       "      <td>86.688794</td>\n",
       "    </tr>\n",
       "  </tbody>\n",
       "</table>\n",
       "<p>5 rows × 35 columns</p>\n",
       "</div>"
      ],
      "text/plain": [
       "   final.output.concentrate_ag  final.output.concentrate_au  \\\n",
       "0                     6.055403                    42.192020   \n",
       "1                     6.029369                    42.701629   \n",
       "2                     6.055926                    42.657501   \n",
       "3                     6.047977                    42.689819   \n",
       "4                     6.148599                    42.774141   \n",
       "\n",
       "   final.output.concentrate_pb  final.output.concentrate_sol  \\\n",
       "0                     9.889648                      5.507324   \n",
       "1                     9.968944                      5.257781   \n",
       "2                    10.213995                      5.383759   \n",
       "3                     9.977019                      4.858634   \n",
       "4                    10.142511                      4.939416   \n",
       "\n",
       "   final.output.recovery  final.output.tail_ag  final.output.tail_au  \\\n",
       "0              70.541216             10.411962              2.143149   \n",
       "1              69.266198             10.462676              2.224930   \n",
       "2              68.116445             10.507046              2.257889   \n",
       "3              68.347543             10.422762              2.146849   \n",
       "4              66.927016             10.360302              2.055292   \n",
       "\n",
       "   final.output.tail_pb  final.output.tail_sol  \\\n",
       "0              0.895447              16.904297   \n",
       "1              0.927452              16.634514   \n",
       "2              0.953716              16.208849   \n",
       "3              0.883763              16.532835   \n",
       "4              0.792826              16.525686   \n",
       "\n",
       "   primary_cleaner.output.concentrate_ag  ...  rougher.output.recovery  \\\n",
       "0                               8.547551  ...                87.107763   \n",
       "1                               8.558743  ...                86.843261   \n",
       "2                               8.603505  ...                86.842308   \n",
       "3                               7.221879  ...                87.226430   \n",
       "4                               9.089428  ...                86.688794   \n",
       "\n",
       "   rougher.output.tail_ag  rougher.output.tail_au  rougher.output.tail_pb  \\\n",
       "0                5.008018                1.170244                0.508728   \n",
       "1                4.955378                1.184827                0.536689   \n",
       "2                4.843460                1.162562                0.546416   \n",
       "3                4.655288                1.079755                0.542525   \n",
       "4                4.552800                1.012642                0.515438   \n",
       "\n",
       "   rougher.output.tail_sol  secondary_cleaner.output.tail_ag  \\\n",
       "0                19.154297                         14.500184   \n",
       "1                18.965234                         14.265474   \n",
       "2                18.808533                         14.115662   \n",
       "3                19.330200                         13.732071   \n",
       "4                19.267422                         14.079996   \n",
       "\n",
       "   secondary_cleaner.output.tail_au  secondary_cleaner.output.tail_pb  \\\n",
       "0                          2.606185                          4.694824   \n",
       "1                          2.488248                          4.592547   \n",
       "2                          2.458187                          4.624775   \n",
       "3                          2.322062                          4.482453   \n",
       "4                          2.330448                          4.470737   \n",
       "\n",
       "   secondary_cleaner.output.tail_sol  theory_rougher.output.recovery  \n",
       "0                           8.764648                       87.107763  \n",
       "1                           9.001494                       86.843261  \n",
       "2                           8.842896                       86.842308  \n",
       "3                           9.122857                       87.226430  \n",
       "4                           8.871028                       86.688794  \n",
       "\n",
       "[5 rows x 35 columns]"
      ]
     },
     "execution_count": 13,
     "metadata": {},
     "output_type": "execute_result"
    }
   ],
   "source": [
    "data_train.loc[:,target_names].head(5)"
   ]
  },
  {
   "cell_type": "markdown",
   "metadata": {},
   "source": [
    "Все эти признаки являются количественными и относятся к параметрам продукта на всех этапах очистки."
   ]
  },
  {
   "cell_type": "code",
   "execution_count": 15,
   "metadata": {},
   "outputs": [
    {
     "name": "stdout",
     "output_type": "stream",
     "text": [
      "<class 'pandas.core.frame.DataFrame'>\n",
      "RangeIndex: 22716 entries, 0 to 22715\n",
      "Data columns (total 87 columns):\n",
      "date                                                  22716 non-null object\n",
      "final.output.concentrate_ag                           22627 non-null float64\n",
      "final.output.concentrate_pb                           22629 non-null float64\n",
      "final.output.concentrate_sol                          22331 non-null float64\n",
      "final.output.concentrate_au                           22630 non-null float64\n",
      "final.output.recovery                                 20753 non-null float64\n",
      "final.output.tail_ag                                  22633 non-null float64\n",
      "final.output.tail_pb                                  22516 non-null float64\n",
      "final.output.tail_sol                                 22445 non-null float64\n",
      "final.output.tail_au                                  22635 non-null float64\n",
      "primary_cleaner.input.sulfate                         21107 non-null float64\n",
      "primary_cleaner.input.depressant                      21170 non-null float64\n",
      "primary_cleaner.input.feed_size                       22716 non-null float64\n",
      "primary_cleaner.input.xanthate                        21565 non-null float64\n",
      "primary_cleaner.output.concentrate_ag                 22618 non-null float64\n",
      "primary_cleaner.output.concentrate_pb                 22268 non-null float64\n",
      "primary_cleaner.output.concentrate_sol                21918 non-null float64\n",
      "primary_cleaner.output.concentrate_au                 22618 non-null float64\n",
      "primary_cleaner.output.tail_ag                        22614 non-null float64\n",
      "primary_cleaner.output.tail_pb                        22594 non-null float64\n",
      "primary_cleaner.output.tail_sol                       22365 non-null float64\n",
      "primary_cleaner.output.tail_au                        22617 non-null float64\n",
      "primary_cleaner.state.floatbank8_a_air                22660 non-null float64\n",
      "primary_cleaner.state.floatbank8_a_level              22667 non-null float64\n",
      "primary_cleaner.state.floatbank8_b_air                22660 non-null float64\n",
      "primary_cleaner.state.floatbank8_b_level              22673 non-null float64\n",
      "primary_cleaner.state.floatbank8_c_air                22662 non-null float64\n",
      "primary_cleaner.state.floatbank8_c_level              22673 non-null float64\n",
      "primary_cleaner.state.floatbank8_d_air                22661 non-null float64\n",
      "primary_cleaner.state.floatbank8_d_level              22673 non-null float64\n",
      "rougher.calculation.sulfate_to_au_concentrate         22672 non-null float64\n",
      "rougher.calculation.floatbank10_sulfate_to_au_feed    22672 non-null float64\n",
      "rougher.calculation.floatbank11_sulfate_to_au_feed    22672 non-null float64\n",
      "rougher.calculation.au_pb_ratio                       21089 non-null float64\n",
      "rougher.input.feed_ag                                 22618 non-null float64\n",
      "rougher.input.feed_pb                                 22472 non-null float64\n",
      "rougher.input.feed_rate                               22163 non-null float64\n",
      "rougher.input.feed_size                               22277 non-null float64\n",
      "rougher.input.feed_sol                                22357 non-null float64\n",
      "rougher.input.feed_au                                 22617 non-null float64\n",
      "rougher.input.floatbank10_sulfate                     21415 non-null float64\n",
      "rougher.input.floatbank10_xanthate                    22247 non-null float64\n",
      "rougher.input.floatbank11_sulfate                     22038 non-null float64\n",
      "rougher.input.floatbank11_xanthate                    20459 non-null float64\n",
      "rougher.output.concentrate_ag                         22618 non-null float64\n",
      "rougher.output.concentrate_pb                         22618 non-null float64\n",
      "rougher.output.concentrate_sol                        22526 non-null float64\n",
      "rougher.output.concentrate_au                         22618 non-null float64\n",
      "rougher.output.recovery                               19597 non-null float64\n",
      "rougher.output.tail_ag                                19979 non-null float64\n",
      "rougher.output.tail_pb                                22618 non-null float64\n",
      "rougher.output.tail_sol                               19980 non-null float64\n",
      "rougher.output.tail_au                                19980 non-null float64\n",
      "rougher.state.floatbank10_a_air                       22646 non-null float64\n",
      "rougher.state.floatbank10_a_level                     22647 non-null float64\n",
      "rougher.state.floatbank10_b_air                       22646 non-null float64\n",
      "rougher.state.floatbank10_b_level                     22647 non-null float64\n",
      "rougher.state.floatbank10_c_air                       22646 non-null float64\n",
      "rougher.state.floatbank10_c_level                     22654 non-null float64\n",
      "rougher.state.floatbank10_d_air                       22641 non-null float64\n",
      "rougher.state.floatbank10_d_level                     22649 non-null float64\n",
      "rougher.state.floatbank10_e_air                       22096 non-null float64\n",
      "rougher.state.floatbank10_e_level                     22649 non-null float64\n",
      "rougher.state.floatbank10_f_air                       22641 non-null float64\n",
      "rougher.state.floatbank10_f_level                     22642 non-null float64\n",
      "secondary_cleaner.output.tail_ag                      22616 non-null float64\n",
      "secondary_cleaner.output.tail_pb                      22600 non-null float64\n",
      "secondary_cleaner.output.tail_sol                     20501 non-null float64\n",
      "secondary_cleaner.output.tail_au                      22618 non-null float64\n",
      "secondary_cleaner.state.floatbank2_a_air              22333 non-null float64\n",
      "secondary_cleaner.state.floatbank2_a_level            22591 non-null float64\n",
      "secondary_cleaner.state.floatbank2_b_air              22538 non-null float64\n",
      "secondary_cleaner.state.floatbank2_b_level            22588 non-null float64\n",
      "secondary_cleaner.state.floatbank3_a_air              22585 non-null float64\n",
      "secondary_cleaner.state.floatbank3_a_level            22587 non-null float64\n",
      "secondary_cleaner.state.floatbank3_b_air              22592 non-null float64\n",
      "secondary_cleaner.state.floatbank3_b_level            22590 non-null float64\n",
      "secondary_cleaner.state.floatbank4_a_air              22571 non-null float64\n",
      "secondary_cleaner.state.floatbank4_a_level            22587 non-null float64\n",
      "secondary_cleaner.state.floatbank4_b_air              22608 non-null float64\n",
      "secondary_cleaner.state.floatbank4_b_level            22607 non-null float64\n",
      "secondary_cleaner.state.floatbank5_a_air              22615 non-null float64\n",
      "secondary_cleaner.state.floatbank5_a_level            22615 non-null float64\n",
      "secondary_cleaner.state.floatbank5_b_air              22615 non-null float64\n",
      "secondary_cleaner.state.floatbank5_b_level            22616 non-null float64\n",
      "secondary_cleaner.state.floatbank6_a_air              22597 non-null float64\n",
      "secondary_cleaner.state.floatbank6_a_level            22615 non-null float64\n",
      "dtypes: float64(86), object(1)\n",
      "memory usage: 15.1+ MB\n"
     ]
    }
   ],
   "source": [
    "data_full.info()"
   ]
  },
  {
   "cell_type": "markdown",
   "metadata": {},
   "source": [
    "Заменим пропуски на близкие значения (нам известно, что бликие по временп данные похожи). Для замены используем метод interpolate."
   ]
  },
  {
   "cell_type": "code",
   "execution_count": 16,
   "metadata": {},
   "outputs": [
    {
     "name": "stdout",
     "output_type": "stream",
     "text": [
      "Пропусков в final.output.concentrate_ag 0.43 %\n",
      "Пропусков в final.output.concentrate_pb 0.43 %\n",
      "Пропусков в final.output.concentrate_sol 2.19 %\n",
      "Пропусков в final.output.concentrate_au 0.42 %\n",
      "Пропусков в final.output.recovery 9.02 %\n",
      "Пропусков в final.output.tail_ag 0.39 %\n",
      "Пропусков в final.output.tail_pb 1.09 %\n",
      "Пропусков в final.output.tail_sol 0.86 %\n",
      "Пропусков в final.output.tail_au 0.39 %\n",
      "Пропусков в primary_cleaner.input.sulfate 7.75 %\n",
      "Пропусков в primary_cleaner.input.depressant 7.49 %\n",
      "Пропусков в primary_cleaner.input.feed_size 0.0 %\n",
      "Пропусков в primary_cleaner.input.xanthate 5.84 %\n",
      "Пропусков в primary_cleaner.output.concentrate_ag 0.49 %\n",
      "Пропусков в primary_cleaner.output.concentrate_pb 2.12 %\n",
      "Пропусков в primary_cleaner.output.concentrate_sol 3.77 %\n",
      "Пропусков в primary_cleaner.output.concentrate_au 0.49 %\n",
      "Пропусков в primary_cleaner.output.tail_ag 0.49 %\n",
      "Пропусков в primary_cleaner.output.tail_pb 0.59 %\n",
      "Пропусков в primary_cleaner.output.tail_sol 1.67 %\n",
      "Пропусков в primary_cleaner.output.tail_au 0.49 %\n",
      "Пропусков в primary_cleaner.state.floatbank8_a_air 0.24 %\n",
      "Пропусков в primary_cleaner.state.floatbank8_a_level 0.2 %\n",
      "Пропусков в primary_cleaner.state.floatbank8_b_air 0.24 %\n",
      "Пропусков в primary_cleaner.state.floatbank8_b_level 0.16 %\n",
      "Пропусков в primary_cleaner.state.floatbank8_c_air 0.23 %\n",
      "Пропусков в primary_cleaner.state.floatbank8_c_level 0.16 %\n",
      "Пропусков в primary_cleaner.state.floatbank8_d_air 0.23 %\n",
      "Пропусков в primary_cleaner.state.floatbank8_d_level 0.16 %\n",
      "Пропусков в rougher.calculation.sulfate_to_au_concentrate 0.16 %\n",
      "Пропусков в rougher.calculation.floatbank10_sulfate_to_au_feed 0.16 %\n",
      "Пропусков в rougher.calculation.floatbank11_sulfate_to_au_feed 0.16 %\n",
      "Пропусков в rougher.calculation.au_pb_ratio 7.37 %\n",
      "Пропусков в rougher.input.feed_ag 0.49 %\n",
      "Пропусков в rougher.input.feed_pb 1.35 %\n",
      "Пропусков в rougher.input.feed_rate 3.04 %\n",
      "Пропусков в rougher.input.feed_size 2.47 %\n",
      "Пропусков в rougher.input.feed_sol 1.73 %\n",
      "Пропусков в rougher.input.feed_au 0.49 %\n",
      "Пропусков в rougher.input.floatbank10_sulfate 6.19 %\n",
      "Пропусков в rougher.input.floatbank10_xanthate 2.05 %\n",
      "Пропусков в rougher.input.floatbank11_sulfate 3.7 %\n",
      "Пропусков в rougher.input.floatbank11_xanthate 11.29 %\n",
      "Пропусков в rougher.output.concentrate_ag 0.49 %\n",
      "Пропусков в rougher.output.concentrate_pb 0.49 %\n",
      "Пропусков в rougher.output.concentrate_sol 0.96 %\n",
      "Пропусков в rougher.output.concentrate_au 0.49 %\n",
      "Пропусков в rougher.output.recovery 15.26 %\n",
      "Пропусков в rougher.output.tail_ag 13.35 %\n",
      "Пропусков в rougher.output.tail_pb 0.49 %\n",
      "Пропусков в rougher.output.tail_sol 13.34 %\n",
      "Пропусков в rougher.output.tail_au 13.34 %\n",
      "Пропусков в rougher.state.floatbank10_a_air 0.31 %\n",
      "Пропусков в rougher.state.floatbank10_a_level 0.31 %\n",
      "Пропусков в rougher.state.floatbank10_b_air 0.31 %\n",
      "Пропусков в rougher.state.floatbank10_b_level 0.31 %\n",
      "Пропусков в rougher.state.floatbank10_c_air 0.31 %\n",
      "Пропусков в rougher.state.floatbank10_c_level 0.27 %\n",
      "Пропусков в rougher.state.floatbank10_d_air 0.34 %\n",
      "Пропусков в rougher.state.floatbank10_d_level 0.3 %\n",
      "Пропусков в rougher.state.floatbank10_e_air 3.58 %\n",
      "Пропусков в rougher.state.floatbank10_e_level 0.3 %\n",
      "Пропусков в rougher.state.floatbank10_f_air 0.34 %\n",
      "Пропусков в rougher.state.floatbank10_f_level 0.34 %\n",
      "Пропусков в secondary_cleaner.output.tail_ag 0.5 %\n",
      "Пропусков в secondary_cleaner.output.tail_pb 0.57 %\n",
      "Пропусков в secondary_cleaner.output.tail_sol 11.78 %\n",
      "Пропусков в secondary_cleaner.output.tail_au 0.49 %\n",
      "Пропусков в secondary_cleaner.state.floatbank2_a_air 2.15 %\n",
      "Пропусков в secondary_cleaner.state.floatbank2_a_level 0.65 %\n",
      "Пропусков в secondary_cleaner.state.floatbank2_b_air 0.92 %\n",
      "Пропусков в secondary_cleaner.state.floatbank2_b_level 0.66 %\n",
      "Пропусков в secondary_cleaner.state.floatbank3_a_air 0.58 %\n",
      "Пропусков в secondary_cleaner.state.floatbank3_a_level 0.67 %\n",
      "Пропусков в secondary_cleaner.state.floatbank3_b_air 0.64 %\n",
      "Пропусков в secondary_cleaner.state.floatbank3_b_level 0.65 %\n",
      "Пропусков в secondary_cleaner.state.floatbank4_a_air 0.77 %\n",
      "Пропусков в secondary_cleaner.state.floatbank4_a_level 0.67 %\n",
      "Пропусков в secondary_cleaner.state.floatbank4_b_air 0.55 %\n",
      "Пропусков в secondary_cleaner.state.floatbank4_b_level 0.55 %\n",
      "Пропусков в secondary_cleaner.state.floatbank5_a_air 0.5 %\n",
      "Пропусков в secondary_cleaner.state.floatbank5_a_level 0.5 %\n",
      "Пропусков в secondary_cleaner.state.floatbank5_b_air 0.5 %\n",
      "Пропусков в secondary_cleaner.state.floatbank5_b_level 0.5 %\n",
      "Пропусков в secondary_cleaner.state.floatbank6_a_air 0.61 %\n",
      "Пропусков в secondary_cleaner.state.floatbank6_a_level 0.5 %\n",
      "Пропусков в theory_rougher.output.recovery 13.54 %\n",
      "<class 'pandas.core.frame.DataFrame'>\n",
      "DatetimeIndex: 16860 entries, 2016-01-15 00:00:00 to 2018-08-18 10:59:59\n",
      "Data columns (total 88 columns):\n",
      "date                                                  16860 non-null datetime64[ns]\n",
      "final.output.concentrate_ag                           16860 non-null float64\n",
      "final.output.concentrate_pb                           16860 non-null float64\n",
      "final.output.concentrate_sol                          16860 non-null float64\n",
      "final.output.concentrate_au                           16860 non-null float64\n",
      "final.output.recovery                                 16860 non-null float64\n",
      "final.output.tail_ag                                  16860 non-null float64\n",
      "final.output.tail_pb                                  16860 non-null float64\n",
      "final.output.tail_sol                                 16860 non-null float64\n",
      "final.output.tail_au                                  16860 non-null float64\n",
      "primary_cleaner.input.sulfate                         16860 non-null float64\n",
      "primary_cleaner.input.depressant                      16860 non-null float64\n",
      "primary_cleaner.input.feed_size                       16860 non-null float64\n",
      "primary_cleaner.input.xanthate                        16860 non-null float64\n",
      "primary_cleaner.output.concentrate_ag                 16860 non-null float64\n",
      "primary_cleaner.output.concentrate_pb                 16860 non-null float64\n",
      "primary_cleaner.output.concentrate_sol                16860 non-null float64\n",
      "primary_cleaner.output.concentrate_au                 16860 non-null float64\n",
      "primary_cleaner.output.tail_ag                        16860 non-null float64\n",
      "primary_cleaner.output.tail_pb                        16860 non-null float64\n",
      "primary_cleaner.output.tail_sol                       16860 non-null float64\n",
      "primary_cleaner.output.tail_au                        16860 non-null float64\n",
      "primary_cleaner.state.floatbank8_a_air                16860 non-null float64\n",
      "primary_cleaner.state.floatbank8_a_level              16860 non-null float64\n",
      "primary_cleaner.state.floatbank8_b_air                16860 non-null float64\n",
      "primary_cleaner.state.floatbank8_b_level              16860 non-null float64\n",
      "primary_cleaner.state.floatbank8_c_air                16860 non-null float64\n",
      "primary_cleaner.state.floatbank8_c_level              16860 non-null float64\n",
      "primary_cleaner.state.floatbank8_d_air                16860 non-null float64\n",
      "primary_cleaner.state.floatbank8_d_level              16860 non-null float64\n",
      "rougher.calculation.sulfate_to_au_concentrate         16860 non-null float64\n",
      "rougher.calculation.floatbank10_sulfate_to_au_feed    16860 non-null float64\n",
      "rougher.calculation.floatbank11_sulfate_to_au_feed    16860 non-null float64\n",
      "rougher.calculation.au_pb_ratio                       16860 non-null float64\n",
      "rougher.input.feed_ag                                 16860 non-null float64\n",
      "rougher.input.feed_pb                                 16860 non-null float64\n",
      "rougher.input.feed_rate                               16860 non-null float64\n",
      "rougher.input.feed_size                               16860 non-null float64\n",
      "rougher.input.feed_sol                                16860 non-null float64\n",
      "rougher.input.feed_au                                 16860 non-null float64\n",
      "rougher.input.floatbank10_sulfate                     16860 non-null float64\n",
      "rougher.input.floatbank10_xanthate                    16860 non-null float64\n",
      "rougher.input.floatbank11_sulfate                     16860 non-null float64\n",
      "rougher.input.floatbank11_xanthate                    16860 non-null float64\n",
      "rougher.output.concentrate_ag                         16860 non-null float64\n",
      "rougher.output.concentrate_pb                         16860 non-null float64\n",
      "rougher.output.concentrate_sol                        16860 non-null float64\n",
      "rougher.output.concentrate_au                         16860 non-null float64\n",
      "rougher.output.recovery                               16860 non-null float64\n",
      "rougher.output.tail_ag                                16860 non-null float64\n",
      "rougher.output.tail_pb                                16860 non-null float64\n",
      "rougher.output.tail_sol                               16860 non-null float64\n",
      "rougher.output.tail_au                                16860 non-null float64\n",
      "rougher.state.floatbank10_a_air                       16860 non-null float64\n",
      "rougher.state.floatbank10_a_level                     16860 non-null float64\n",
      "rougher.state.floatbank10_b_air                       16860 non-null float64\n",
      "rougher.state.floatbank10_b_level                     16860 non-null float64\n",
      "rougher.state.floatbank10_c_air                       16860 non-null float64\n",
      "rougher.state.floatbank10_c_level                     16860 non-null float64\n",
      "rougher.state.floatbank10_d_air                       16860 non-null float64\n",
      "rougher.state.floatbank10_d_level                     16860 non-null float64\n",
      "rougher.state.floatbank10_e_air                       16860 non-null float64\n",
      "rougher.state.floatbank10_e_level                     16860 non-null float64\n",
      "rougher.state.floatbank10_f_air                       16860 non-null float64\n",
      "rougher.state.floatbank10_f_level                     16860 non-null float64\n",
      "secondary_cleaner.output.tail_ag                      16860 non-null float64\n",
      "secondary_cleaner.output.tail_pb                      16860 non-null float64\n",
      "secondary_cleaner.output.tail_sol                     16860 non-null float64\n",
      "secondary_cleaner.output.tail_au                      16860 non-null float64\n",
      "secondary_cleaner.state.floatbank2_a_air              16860 non-null float64\n",
      "secondary_cleaner.state.floatbank2_a_level            16860 non-null float64\n",
      "secondary_cleaner.state.floatbank2_b_air              16860 non-null float64\n",
      "secondary_cleaner.state.floatbank2_b_level            16860 non-null float64\n",
      "secondary_cleaner.state.floatbank3_a_air              16860 non-null float64\n",
      "secondary_cleaner.state.floatbank3_a_level            16860 non-null float64\n",
      "secondary_cleaner.state.floatbank3_b_air              16860 non-null float64\n",
      "secondary_cleaner.state.floatbank3_b_level            16860 non-null float64\n",
      "secondary_cleaner.state.floatbank4_a_air              16860 non-null float64\n",
      "secondary_cleaner.state.floatbank4_a_level            16860 non-null float64\n",
      "secondary_cleaner.state.floatbank4_b_air              16860 non-null float64\n",
      "secondary_cleaner.state.floatbank4_b_level            16860 non-null float64\n",
      "secondary_cleaner.state.floatbank5_a_air              16860 non-null float64\n",
      "secondary_cleaner.state.floatbank5_a_level            16860 non-null float64\n",
      "secondary_cleaner.state.floatbank5_b_air              16860 non-null float64\n",
      "secondary_cleaner.state.floatbank5_b_level            16860 non-null float64\n",
      "secondary_cleaner.state.floatbank6_a_air              16860 non-null float64\n",
      "secondary_cleaner.state.floatbank6_a_level            16860 non-null float64\n",
      "theory_rougher.output.recovery                        16860 non-null float64\n",
      "dtypes: datetime64[ns](1), float64(87)\n",
      "memory usage: 11.4 MB\n"
     ]
    },
    {
     "data": {
      "text/html": [
       "<div>\n",
       "<style scoped>\n",
       "    .dataframe tbody tr th:only-of-type {\n",
       "        vertical-align: middle;\n",
       "    }\n",
       "\n",
       "    .dataframe tbody tr th {\n",
       "        vertical-align: top;\n",
       "    }\n",
       "\n",
       "    .dataframe thead th {\n",
       "        text-align: right;\n",
       "    }\n",
       "</style>\n",
       "<table border=\"1\" class=\"dataframe\">\n",
       "  <thead>\n",
       "    <tr style=\"text-align: right;\">\n",
       "      <th></th>\n",
       "      <th>date</th>\n",
       "      <th>final.output.concentrate_ag</th>\n",
       "      <th>final.output.concentrate_pb</th>\n",
       "      <th>final.output.concentrate_sol</th>\n",
       "      <th>final.output.concentrate_au</th>\n",
       "      <th>final.output.recovery</th>\n",
       "      <th>final.output.tail_ag</th>\n",
       "      <th>final.output.tail_pb</th>\n",
       "      <th>final.output.tail_sol</th>\n",
       "      <th>final.output.tail_au</th>\n",
       "      <th>...</th>\n",
       "      <th>secondary_cleaner.state.floatbank4_a_level</th>\n",
       "      <th>secondary_cleaner.state.floatbank4_b_air</th>\n",
       "      <th>secondary_cleaner.state.floatbank4_b_level</th>\n",
       "      <th>secondary_cleaner.state.floatbank5_a_air</th>\n",
       "      <th>secondary_cleaner.state.floatbank5_a_level</th>\n",
       "      <th>secondary_cleaner.state.floatbank5_b_air</th>\n",
       "      <th>secondary_cleaner.state.floatbank5_b_level</th>\n",
       "      <th>secondary_cleaner.state.floatbank6_a_air</th>\n",
       "      <th>secondary_cleaner.state.floatbank6_a_level</th>\n",
       "      <th>theory_rougher.output.recovery</th>\n",
       "    </tr>\n",
       "    <tr>\n",
       "      <th>date</th>\n",
       "      <th></th>\n",
       "      <th></th>\n",
       "      <th></th>\n",
       "      <th></th>\n",
       "      <th></th>\n",
       "      <th></th>\n",
       "      <th></th>\n",
       "      <th></th>\n",
       "      <th></th>\n",
       "      <th></th>\n",
       "      <th></th>\n",
       "      <th></th>\n",
       "      <th></th>\n",
       "      <th></th>\n",
       "      <th></th>\n",
       "      <th></th>\n",
       "      <th></th>\n",
       "      <th></th>\n",
       "      <th></th>\n",
       "      <th></th>\n",
       "      <th></th>\n",
       "    </tr>\n",
       "  </thead>\n",
       "  <tbody>\n",
       "    <tr>\n",
       "      <td>2016-01-15 00:00:00</td>\n",
       "      <td>2016-01-15 00:00:00</td>\n",
       "      <td>6.055403</td>\n",
       "      <td>9.889648</td>\n",
       "      <td>5.507324</td>\n",
       "      <td>42.192020</td>\n",
       "      <td>70.541216</td>\n",
       "      <td>10.411962</td>\n",
       "      <td>0.895447</td>\n",
       "      <td>16.904297</td>\n",
       "      <td>2.143149</td>\n",
       "      <td>...</td>\n",
       "      <td>-502.488007</td>\n",
       "      <td>12.099931</td>\n",
       "      <td>-504.715942</td>\n",
       "      <td>9.925633</td>\n",
       "      <td>-498.310211</td>\n",
       "      <td>8.079666</td>\n",
       "      <td>-500.470978</td>\n",
       "      <td>14.151341</td>\n",
       "      <td>-605.841980</td>\n",
       "      <td>87.107763</td>\n",
       "    </tr>\n",
       "    <tr>\n",
       "      <td>2016-01-15 01:00:00</td>\n",
       "      <td>2016-01-15 01:00:00</td>\n",
       "      <td>6.029369</td>\n",
       "      <td>9.968944</td>\n",
       "      <td>5.257781</td>\n",
       "      <td>42.701629</td>\n",
       "      <td>69.266198</td>\n",
       "      <td>10.462676</td>\n",
       "      <td>0.927452</td>\n",
       "      <td>16.634514</td>\n",
       "      <td>2.224930</td>\n",
       "      <td>...</td>\n",
       "      <td>-505.503262</td>\n",
       "      <td>11.950531</td>\n",
       "      <td>-501.331529</td>\n",
       "      <td>10.039245</td>\n",
       "      <td>-500.169983</td>\n",
       "      <td>7.984757</td>\n",
       "      <td>-500.582168</td>\n",
       "      <td>13.998353</td>\n",
       "      <td>-599.787184</td>\n",
       "      <td>86.843261</td>\n",
       "    </tr>\n",
       "    <tr>\n",
       "      <td>2016-01-15 02:00:00</td>\n",
       "      <td>2016-01-15 02:00:00</td>\n",
       "      <td>6.055926</td>\n",
       "      <td>10.213995</td>\n",
       "      <td>5.383759</td>\n",
       "      <td>42.657501</td>\n",
       "      <td>68.116445</td>\n",
       "      <td>10.507046</td>\n",
       "      <td>0.953716</td>\n",
       "      <td>16.208849</td>\n",
       "      <td>2.257889</td>\n",
       "      <td>...</td>\n",
       "      <td>-502.520901</td>\n",
       "      <td>11.912783</td>\n",
       "      <td>-501.133383</td>\n",
       "      <td>10.070913</td>\n",
       "      <td>-500.129135</td>\n",
       "      <td>8.013877</td>\n",
       "      <td>-500.517572</td>\n",
       "      <td>14.028663</td>\n",
       "      <td>-601.427363</td>\n",
       "      <td>86.842308</td>\n",
       "    </tr>\n",
       "    <tr>\n",
       "      <td>2016-01-15 03:00:00</td>\n",
       "      <td>2016-01-15 03:00:00</td>\n",
       "      <td>6.047977</td>\n",
       "      <td>9.977019</td>\n",
       "      <td>4.858634</td>\n",
       "      <td>42.689819</td>\n",
       "      <td>68.347543</td>\n",
       "      <td>10.422762</td>\n",
       "      <td>0.883763</td>\n",
       "      <td>16.532835</td>\n",
       "      <td>2.146849</td>\n",
       "      <td>...</td>\n",
       "      <td>-500.857308</td>\n",
       "      <td>11.999550</td>\n",
       "      <td>-501.193686</td>\n",
       "      <td>9.970366</td>\n",
       "      <td>-499.201640</td>\n",
       "      <td>7.977324</td>\n",
       "      <td>-500.255908</td>\n",
       "      <td>14.005551</td>\n",
       "      <td>-599.996129</td>\n",
       "      <td>87.226430</td>\n",
       "    </tr>\n",
       "    <tr>\n",
       "      <td>2016-01-15 04:00:00</td>\n",
       "      <td>2016-01-15 04:00:00</td>\n",
       "      <td>6.148599</td>\n",
       "      <td>10.142511</td>\n",
       "      <td>4.939416</td>\n",
       "      <td>42.774141</td>\n",
       "      <td>66.927016</td>\n",
       "      <td>10.360302</td>\n",
       "      <td>0.792826</td>\n",
       "      <td>16.525686</td>\n",
       "      <td>2.055292</td>\n",
       "      <td>...</td>\n",
       "      <td>-499.838632</td>\n",
       "      <td>11.953070</td>\n",
       "      <td>-501.053894</td>\n",
       "      <td>9.925709</td>\n",
       "      <td>-501.686727</td>\n",
       "      <td>7.894242</td>\n",
       "      <td>-500.356035</td>\n",
       "      <td>13.996647</td>\n",
       "      <td>-601.496691</td>\n",
       "      <td>86.688794</td>\n",
       "    </tr>\n",
       "  </tbody>\n",
       "</table>\n",
       "<p>5 rows × 88 columns</p>\n",
       "</div>"
      ],
      "text/plain": [
       "                                   date  final.output.concentrate_ag  \\\n",
       "date                                                                   \n",
       "2016-01-15 00:00:00 2016-01-15 00:00:00                     6.055403   \n",
       "2016-01-15 01:00:00 2016-01-15 01:00:00                     6.029369   \n",
       "2016-01-15 02:00:00 2016-01-15 02:00:00                     6.055926   \n",
       "2016-01-15 03:00:00 2016-01-15 03:00:00                     6.047977   \n",
       "2016-01-15 04:00:00 2016-01-15 04:00:00                     6.148599   \n",
       "\n",
       "                     final.output.concentrate_pb  \\\n",
       "date                                               \n",
       "2016-01-15 00:00:00                     9.889648   \n",
       "2016-01-15 01:00:00                     9.968944   \n",
       "2016-01-15 02:00:00                    10.213995   \n",
       "2016-01-15 03:00:00                     9.977019   \n",
       "2016-01-15 04:00:00                    10.142511   \n",
       "\n",
       "                     final.output.concentrate_sol  \\\n",
       "date                                                \n",
       "2016-01-15 00:00:00                      5.507324   \n",
       "2016-01-15 01:00:00                      5.257781   \n",
       "2016-01-15 02:00:00                      5.383759   \n",
       "2016-01-15 03:00:00                      4.858634   \n",
       "2016-01-15 04:00:00                      4.939416   \n",
       "\n",
       "                     final.output.concentrate_au  final.output.recovery  \\\n",
       "date                                                                      \n",
       "2016-01-15 00:00:00                    42.192020              70.541216   \n",
       "2016-01-15 01:00:00                    42.701629              69.266198   \n",
       "2016-01-15 02:00:00                    42.657501              68.116445   \n",
       "2016-01-15 03:00:00                    42.689819              68.347543   \n",
       "2016-01-15 04:00:00                    42.774141              66.927016   \n",
       "\n",
       "                     final.output.tail_ag  final.output.tail_pb  \\\n",
       "date                                                              \n",
       "2016-01-15 00:00:00             10.411962              0.895447   \n",
       "2016-01-15 01:00:00             10.462676              0.927452   \n",
       "2016-01-15 02:00:00             10.507046              0.953716   \n",
       "2016-01-15 03:00:00             10.422762              0.883763   \n",
       "2016-01-15 04:00:00             10.360302              0.792826   \n",
       "\n",
       "                     final.output.tail_sol  final.output.tail_au  ...  \\\n",
       "date                                                              ...   \n",
       "2016-01-15 00:00:00              16.904297              2.143149  ...   \n",
       "2016-01-15 01:00:00              16.634514              2.224930  ...   \n",
       "2016-01-15 02:00:00              16.208849              2.257889  ...   \n",
       "2016-01-15 03:00:00              16.532835              2.146849  ...   \n",
       "2016-01-15 04:00:00              16.525686              2.055292  ...   \n",
       "\n",
       "                     secondary_cleaner.state.floatbank4_a_level  \\\n",
       "date                                                              \n",
       "2016-01-15 00:00:00                                 -502.488007   \n",
       "2016-01-15 01:00:00                                 -505.503262   \n",
       "2016-01-15 02:00:00                                 -502.520901   \n",
       "2016-01-15 03:00:00                                 -500.857308   \n",
       "2016-01-15 04:00:00                                 -499.838632   \n",
       "\n",
       "                     secondary_cleaner.state.floatbank4_b_air  \\\n",
       "date                                                            \n",
       "2016-01-15 00:00:00                                 12.099931   \n",
       "2016-01-15 01:00:00                                 11.950531   \n",
       "2016-01-15 02:00:00                                 11.912783   \n",
       "2016-01-15 03:00:00                                 11.999550   \n",
       "2016-01-15 04:00:00                                 11.953070   \n",
       "\n",
       "                     secondary_cleaner.state.floatbank4_b_level  \\\n",
       "date                                                              \n",
       "2016-01-15 00:00:00                                 -504.715942   \n",
       "2016-01-15 01:00:00                                 -501.331529   \n",
       "2016-01-15 02:00:00                                 -501.133383   \n",
       "2016-01-15 03:00:00                                 -501.193686   \n",
       "2016-01-15 04:00:00                                 -501.053894   \n",
       "\n",
       "                     secondary_cleaner.state.floatbank5_a_air  \\\n",
       "date                                                            \n",
       "2016-01-15 00:00:00                                  9.925633   \n",
       "2016-01-15 01:00:00                                 10.039245   \n",
       "2016-01-15 02:00:00                                 10.070913   \n",
       "2016-01-15 03:00:00                                  9.970366   \n",
       "2016-01-15 04:00:00                                  9.925709   \n",
       "\n",
       "                     secondary_cleaner.state.floatbank5_a_level  \\\n",
       "date                                                              \n",
       "2016-01-15 00:00:00                                 -498.310211   \n",
       "2016-01-15 01:00:00                                 -500.169983   \n",
       "2016-01-15 02:00:00                                 -500.129135   \n",
       "2016-01-15 03:00:00                                 -499.201640   \n",
       "2016-01-15 04:00:00                                 -501.686727   \n",
       "\n",
       "                     secondary_cleaner.state.floatbank5_b_air  \\\n",
       "date                                                            \n",
       "2016-01-15 00:00:00                                  8.079666   \n",
       "2016-01-15 01:00:00                                  7.984757   \n",
       "2016-01-15 02:00:00                                  8.013877   \n",
       "2016-01-15 03:00:00                                  7.977324   \n",
       "2016-01-15 04:00:00                                  7.894242   \n",
       "\n",
       "                     secondary_cleaner.state.floatbank5_b_level  \\\n",
       "date                                                              \n",
       "2016-01-15 00:00:00                                 -500.470978   \n",
       "2016-01-15 01:00:00                                 -500.582168   \n",
       "2016-01-15 02:00:00                                 -500.517572   \n",
       "2016-01-15 03:00:00                                 -500.255908   \n",
       "2016-01-15 04:00:00                                 -500.356035   \n",
       "\n",
       "                     secondary_cleaner.state.floatbank6_a_air  \\\n",
       "date                                                            \n",
       "2016-01-15 00:00:00                                 14.151341   \n",
       "2016-01-15 01:00:00                                 13.998353   \n",
       "2016-01-15 02:00:00                                 14.028663   \n",
       "2016-01-15 03:00:00                                 14.005551   \n",
       "2016-01-15 04:00:00                                 13.996647   \n",
       "\n",
       "                     secondary_cleaner.state.floatbank6_a_level  \\\n",
       "date                                                              \n",
       "2016-01-15 00:00:00                                 -605.841980   \n",
       "2016-01-15 01:00:00                                 -599.787184   \n",
       "2016-01-15 02:00:00                                 -601.427363   \n",
       "2016-01-15 03:00:00                                 -599.996129   \n",
       "2016-01-15 04:00:00                                 -601.496691   \n",
       "\n",
       "                     theory_rougher.output.recovery  \n",
       "date                                                 \n",
       "2016-01-15 00:00:00                       87.107763  \n",
       "2016-01-15 01:00:00                       86.843261  \n",
       "2016-01-15 02:00:00                       86.842308  \n",
       "2016-01-15 03:00:00                       87.226430  \n",
       "2016-01-15 04:00:00                       86.688794  \n",
       "\n",
       "[5 rows x 88 columns]"
      ]
     },
     "execution_count": 16,
     "metadata": {},
     "output_type": "execute_result"
    }
   ],
   "source": [
    "column_names = list(data_train.columns)\n",
    "column_names.remove('date')\n",
    "for name in column_names:\n",
    "    print ('Пропусков в', name, ((data_train[name].isna().sum()/len(data_train[name]))*100).round(2), '%')\n",
    "\n",
    "data_train['date'] = pd.to_datetime(data_train['date'])\n",
    "data_train.index = data_train['date']\n",
    "data_train = data_train.interpolate(method='time')\n",
    "data_train.info()\n",
    "data_train.head()"
   ]
  },
  {
   "cell_type": "markdown",
   "metadata": {},
   "source": [
    "По такому же принципу заменим пропуски в тестовой выборке."
   ]
  },
  {
   "cell_type": "code",
   "execution_count": 17,
   "metadata": {},
   "outputs": [
    {
     "name": "stdout",
     "output_type": "stream",
     "text": [
      "Пропусков в primary_cleaner.input.sulfate 5.16 %\n",
      "Пропусков в primary_cleaner.input.depressant 4.85 %\n",
      "Пропусков в primary_cleaner.input.feed_size 0.0 %\n",
      "Пропусков в primary_cleaner.input.xanthate 2.83 %\n",
      "Пропусков в primary_cleaner.state.floatbank8_a_air 0.27 %\n",
      "Пропусков в primary_cleaner.state.floatbank8_a_level 0.27 %\n",
      "Пропусков в primary_cleaner.state.floatbank8_b_air 0.27 %\n",
      "Пропусков в primary_cleaner.state.floatbank8_b_level 0.27 %\n",
      "Пропусков в primary_cleaner.state.floatbank8_c_air 0.27 %\n",
      "Пропусков в primary_cleaner.state.floatbank8_c_level 0.27 %\n",
      "Пропусков в primary_cleaner.state.floatbank8_d_air 0.27 %\n",
      "Пропусков в primary_cleaner.state.floatbank8_d_level 0.27 %\n",
      "Пропусков в rougher.input.feed_ag 0.27 %\n",
      "Пропусков в rougher.input.feed_pb 0.27 %\n",
      "Пропусков в rougher.input.feed_rate 0.68 %\n",
      "Пропусков в rougher.input.feed_size 0.38 %\n",
      "Пропусков в rougher.input.feed_sol 1.14 %\n",
      "Пропусков в rougher.input.feed_au 0.27 %\n",
      "Пропусков в rougher.input.floatbank10_sulfate 4.39 %\n",
      "Пропусков в rougher.input.floatbank10_xanthate 2.1 %\n",
      "Пропусков в rougher.input.floatbank11_sulfate 0.94 %\n",
      "Пропусков в rougher.input.floatbank11_xanthate 6.03 %\n",
      "Пропусков в rougher.state.floatbank10_a_air 0.29 %\n",
      "Пропусков в rougher.state.floatbank10_a_level 0.27 %\n",
      "Пропусков в rougher.state.floatbank10_b_air 0.29 %\n",
      "Пропусков в rougher.state.floatbank10_b_level 0.27 %\n",
      "Пропусков в rougher.state.floatbank10_c_air 0.29 %\n",
      "Пропусков в rougher.state.floatbank10_c_level 0.27 %\n",
      "Пропусков в rougher.state.floatbank10_d_air 0.29 %\n",
      "Пропусков в rougher.state.floatbank10_d_level 0.27 %\n",
      "Пропусков в rougher.state.floatbank10_e_air 0.29 %\n",
      "Пропусков в rougher.state.floatbank10_e_level 0.27 %\n",
      "Пропусков в rougher.state.floatbank10_f_air 0.29 %\n",
      "Пропусков в rougher.state.floatbank10_f_level 0.27 %\n",
      "Пропусков в secondary_cleaner.state.floatbank2_a_air 0.34 %\n",
      "Пропусков в secondary_cleaner.state.floatbank2_a_level 0.27 %\n",
      "Пропусков в secondary_cleaner.state.floatbank2_b_air 0.39 %\n",
      "Пропусков в secondary_cleaner.state.floatbank2_b_level 0.27 %\n",
      "Пропусков в secondary_cleaner.state.floatbank3_a_air 0.58 %\n",
      "Пропусков в secondary_cleaner.state.floatbank3_a_level 0.27 %\n",
      "Пропусков в secondary_cleaner.state.floatbank3_b_air 0.27 %\n",
      "Пропусков в secondary_cleaner.state.floatbank3_b_level 0.27 %\n",
      "Пропусков в secondary_cleaner.state.floatbank4_a_air 0.27 %\n",
      "Пропусков в secondary_cleaner.state.floatbank4_a_level 0.27 %\n",
      "Пропусков в secondary_cleaner.state.floatbank4_b_air 0.27 %\n",
      "Пропусков в secondary_cleaner.state.floatbank4_b_level 0.27 %\n",
      "Пропусков в secondary_cleaner.state.floatbank5_a_air 0.27 %\n",
      "Пропусков в secondary_cleaner.state.floatbank5_a_level 0.27 %\n",
      "Пропусков в secondary_cleaner.state.floatbank5_b_air 0.27 %\n",
      "Пропусков в secondary_cleaner.state.floatbank5_b_level 0.27 %\n",
      "Пропусков в secondary_cleaner.state.floatbank6_a_air 0.27 %\n",
      "Пропусков в secondary_cleaner.state.floatbank6_a_level 0.27 %\n",
      "<class 'pandas.core.frame.DataFrame'>\n",
      "DatetimeIndex: 5856 entries, 2016-09-01 00:59:59 to 2017-12-31 23:59:59\n",
      "Data columns (total 53 columns):\n",
      "date                                          5856 non-null datetime64[ns]\n",
      "primary_cleaner.input.sulfate                 5856 non-null float64\n",
      "primary_cleaner.input.depressant              5856 non-null float64\n",
      "primary_cleaner.input.feed_size               5856 non-null float64\n",
      "primary_cleaner.input.xanthate                5856 non-null float64\n",
      "primary_cleaner.state.floatbank8_a_air        5856 non-null float64\n",
      "primary_cleaner.state.floatbank8_a_level      5856 non-null float64\n",
      "primary_cleaner.state.floatbank8_b_air        5856 non-null float64\n",
      "primary_cleaner.state.floatbank8_b_level      5856 non-null float64\n",
      "primary_cleaner.state.floatbank8_c_air        5856 non-null float64\n",
      "primary_cleaner.state.floatbank8_c_level      5856 non-null float64\n",
      "primary_cleaner.state.floatbank8_d_air        5856 non-null float64\n",
      "primary_cleaner.state.floatbank8_d_level      5856 non-null float64\n",
      "rougher.input.feed_ag                         5856 non-null float64\n",
      "rougher.input.feed_pb                         5856 non-null float64\n",
      "rougher.input.feed_rate                       5856 non-null float64\n",
      "rougher.input.feed_size                       5856 non-null float64\n",
      "rougher.input.feed_sol                        5856 non-null float64\n",
      "rougher.input.feed_au                         5856 non-null float64\n",
      "rougher.input.floatbank10_sulfate             5856 non-null float64\n",
      "rougher.input.floatbank10_xanthate            5856 non-null float64\n",
      "rougher.input.floatbank11_sulfate             5856 non-null float64\n",
      "rougher.input.floatbank11_xanthate            5856 non-null float64\n",
      "rougher.state.floatbank10_a_air               5856 non-null float64\n",
      "rougher.state.floatbank10_a_level             5856 non-null float64\n",
      "rougher.state.floatbank10_b_air               5856 non-null float64\n",
      "rougher.state.floatbank10_b_level             5856 non-null float64\n",
      "rougher.state.floatbank10_c_air               5856 non-null float64\n",
      "rougher.state.floatbank10_c_level             5856 non-null float64\n",
      "rougher.state.floatbank10_d_air               5856 non-null float64\n",
      "rougher.state.floatbank10_d_level             5856 non-null float64\n",
      "rougher.state.floatbank10_e_air               5856 non-null float64\n",
      "rougher.state.floatbank10_e_level             5856 non-null float64\n",
      "rougher.state.floatbank10_f_air               5856 non-null float64\n",
      "rougher.state.floatbank10_f_level             5856 non-null float64\n",
      "secondary_cleaner.state.floatbank2_a_air      5856 non-null float64\n",
      "secondary_cleaner.state.floatbank2_a_level    5856 non-null float64\n",
      "secondary_cleaner.state.floatbank2_b_air      5856 non-null float64\n",
      "secondary_cleaner.state.floatbank2_b_level    5856 non-null float64\n",
      "secondary_cleaner.state.floatbank3_a_air      5856 non-null float64\n",
      "secondary_cleaner.state.floatbank3_a_level    5856 non-null float64\n",
      "secondary_cleaner.state.floatbank3_b_air      5856 non-null float64\n",
      "secondary_cleaner.state.floatbank3_b_level    5856 non-null float64\n",
      "secondary_cleaner.state.floatbank4_a_air      5856 non-null float64\n",
      "secondary_cleaner.state.floatbank4_a_level    5856 non-null float64\n",
      "secondary_cleaner.state.floatbank4_b_air      5856 non-null float64\n",
      "secondary_cleaner.state.floatbank4_b_level    5856 non-null float64\n",
      "secondary_cleaner.state.floatbank5_a_air      5856 non-null float64\n",
      "secondary_cleaner.state.floatbank5_a_level    5856 non-null float64\n",
      "secondary_cleaner.state.floatbank5_b_air      5856 non-null float64\n",
      "secondary_cleaner.state.floatbank5_b_level    5856 non-null float64\n",
      "secondary_cleaner.state.floatbank6_a_air      5856 non-null float64\n",
      "secondary_cleaner.state.floatbank6_a_level    5856 non-null float64\n",
      "dtypes: datetime64[ns](1), float64(52)\n",
      "memory usage: 2.4 MB\n"
     ]
    },
    {
     "data": {
      "text/html": [
       "<div>\n",
       "<style scoped>\n",
       "    .dataframe tbody tr th:only-of-type {\n",
       "        vertical-align: middle;\n",
       "    }\n",
       "\n",
       "    .dataframe tbody tr th {\n",
       "        vertical-align: top;\n",
       "    }\n",
       "\n",
       "    .dataframe thead th {\n",
       "        text-align: right;\n",
       "    }\n",
       "</style>\n",
       "<table border=\"1\" class=\"dataframe\">\n",
       "  <thead>\n",
       "    <tr style=\"text-align: right;\">\n",
       "      <th></th>\n",
       "      <th>date</th>\n",
       "      <th>primary_cleaner.input.sulfate</th>\n",
       "      <th>primary_cleaner.input.depressant</th>\n",
       "      <th>primary_cleaner.input.feed_size</th>\n",
       "      <th>primary_cleaner.input.xanthate</th>\n",
       "      <th>primary_cleaner.state.floatbank8_a_air</th>\n",
       "      <th>primary_cleaner.state.floatbank8_a_level</th>\n",
       "      <th>primary_cleaner.state.floatbank8_b_air</th>\n",
       "      <th>primary_cleaner.state.floatbank8_b_level</th>\n",
       "      <th>primary_cleaner.state.floatbank8_c_air</th>\n",
       "      <th>...</th>\n",
       "      <th>secondary_cleaner.state.floatbank4_a_air</th>\n",
       "      <th>secondary_cleaner.state.floatbank4_a_level</th>\n",
       "      <th>secondary_cleaner.state.floatbank4_b_air</th>\n",
       "      <th>secondary_cleaner.state.floatbank4_b_level</th>\n",
       "      <th>secondary_cleaner.state.floatbank5_a_air</th>\n",
       "      <th>secondary_cleaner.state.floatbank5_a_level</th>\n",
       "      <th>secondary_cleaner.state.floatbank5_b_air</th>\n",
       "      <th>secondary_cleaner.state.floatbank5_b_level</th>\n",
       "      <th>secondary_cleaner.state.floatbank6_a_air</th>\n",
       "      <th>secondary_cleaner.state.floatbank6_a_level</th>\n",
       "    </tr>\n",
       "    <tr>\n",
       "      <th>date</th>\n",
       "      <th></th>\n",
       "      <th></th>\n",
       "      <th></th>\n",
       "      <th></th>\n",
       "      <th></th>\n",
       "      <th></th>\n",
       "      <th></th>\n",
       "      <th></th>\n",
       "      <th></th>\n",
       "      <th></th>\n",
       "      <th></th>\n",
       "      <th></th>\n",
       "      <th></th>\n",
       "      <th></th>\n",
       "      <th></th>\n",
       "      <th></th>\n",
       "      <th></th>\n",
       "      <th></th>\n",
       "      <th></th>\n",
       "      <th></th>\n",
       "      <th></th>\n",
       "    </tr>\n",
       "  </thead>\n",
       "  <tbody>\n",
       "    <tr>\n",
       "      <td>2016-09-01 00:59:59</td>\n",
       "      <td>2016-09-01 00:59:59</td>\n",
       "      <td>210.800909</td>\n",
       "      <td>14.993118</td>\n",
       "      <td>8.080000</td>\n",
       "      <td>1.005021</td>\n",
       "      <td>1398.981301</td>\n",
       "      <td>-500.225577</td>\n",
       "      <td>1399.144926</td>\n",
       "      <td>-499.919735</td>\n",
       "      <td>1400.102998</td>\n",
       "      <td>...</td>\n",
       "      <td>12.023554</td>\n",
       "      <td>-497.795834</td>\n",
       "      <td>8.016656</td>\n",
       "      <td>-501.289139</td>\n",
       "      <td>7.946562</td>\n",
       "      <td>-432.317850</td>\n",
       "      <td>4.872511</td>\n",
       "      <td>-500.037437</td>\n",
       "      <td>26.705889</td>\n",
       "      <td>-499.709414</td>\n",
       "    </tr>\n",
       "    <tr>\n",
       "      <td>2016-09-01 01:59:59</td>\n",
       "      <td>2016-09-01 01:59:59</td>\n",
       "      <td>215.392455</td>\n",
       "      <td>14.987471</td>\n",
       "      <td>8.080000</td>\n",
       "      <td>0.990469</td>\n",
       "      <td>1398.777912</td>\n",
       "      <td>-500.057435</td>\n",
       "      <td>1398.055362</td>\n",
       "      <td>-499.778182</td>\n",
       "      <td>1396.151033</td>\n",
       "      <td>...</td>\n",
       "      <td>12.058140</td>\n",
       "      <td>-498.695773</td>\n",
       "      <td>8.130979</td>\n",
       "      <td>-499.634209</td>\n",
       "      <td>7.958270</td>\n",
       "      <td>-525.839648</td>\n",
       "      <td>4.878850</td>\n",
       "      <td>-500.162375</td>\n",
       "      <td>25.019940</td>\n",
       "      <td>-499.819438</td>\n",
       "    </tr>\n",
       "    <tr>\n",
       "      <td>2016-09-01 02:59:59</td>\n",
       "      <td>2016-09-01 02:59:59</td>\n",
       "      <td>215.259946</td>\n",
       "      <td>12.884934</td>\n",
       "      <td>7.786667</td>\n",
       "      <td>0.996043</td>\n",
       "      <td>1398.493666</td>\n",
       "      <td>-500.868360</td>\n",
       "      <td>1398.860436</td>\n",
       "      <td>-499.764529</td>\n",
       "      <td>1398.075709</td>\n",
       "      <td>...</td>\n",
       "      <td>11.962366</td>\n",
       "      <td>-498.767484</td>\n",
       "      <td>8.096893</td>\n",
       "      <td>-500.827423</td>\n",
       "      <td>8.071056</td>\n",
       "      <td>-500.801673</td>\n",
       "      <td>4.905125</td>\n",
       "      <td>-499.828510</td>\n",
       "      <td>24.994862</td>\n",
       "      <td>-500.622559</td>\n",
       "    </tr>\n",
       "    <tr>\n",
       "      <td>2016-09-01 03:59:59</td>\n",
       "      <td>2016-09-01 03:59:59</td>\n",
       "      <td>215.336236</td>\n",
       "      <td>12.006805</td>\n",
       "      <td>7.640000</td>\n",
       "      <td>0.863514</td>\n",
       "      <td>1399.618111</td>\n",
       "      <td>-498.863574</td>\n",
       "      <td>1397.440120</td>\n",
       "      <td>-499.211024</td>\n",
       "      <td>1400.129303</td>\n",
       "      <td>...</td>\n",
       "      <td>12.033091</td>\n",
       "      <td>-498.350935</td>\n",
       "      <td>8.074946</td>\n",
       "      <td>-499.474407</td>\n",
       "      <td>7.897085</td>\n",
       "      <td>-500.868509</td>\n",
       "      <td>4.931400</td>\n",
       "      <td>-499.963623</td>\n",
       "      <td>24.948919</td>\n",
       "      <td>-498.709987</td>\n",
       "    </tr>\n",
       "    <tr>\n",
       "      <td>2016-09-01 04:59:59</td>\n",
       "      <td>2016-09-01 04:59:59</td>\n",
       "      <td>199.099327</td>\n",
       "      <td>10.682530</td>\n",
       "      <td>7.530000</td>\n",
       "      <td>0.805575</td>\n",
       "      <td>1401.268123</td>\n",
       "      <td>-500.808305</td>\n",
       "      <td>1398.128818</td>\n",
       "      <td>-499.504543</td>\n",
       "      <td>1402.172226</td>\n",
       "      <td>...</td>\n",
       "      <td>12.025367</td>\n",
       "      <td>-500.786497</td>\n",
       "      <td>8.054678</td>\n",
       "      <td>-500.397500</td>\n",
       "      <td>8.107890</td>\n",
       "      <td>-509.526725</td>\n",
       "      <td>4.957674</td>\n",
       "      <td>-500.360026</td>\n",
       "      <td>25.003331</td>\n",
       "      <td>-500.856333</td>\n",
       "    </tr>\n",
       "  </tbody>\n",
       "</table>\n",
       "<p>5 rows × 53 columns</p>\n",
       "</div>"
      ],
      "text/plain": [
       "                                   date  primary_cleaner.input.sulfate  \\\n",
       "date                                                                     \n",
       "2016-09-01 00:59:59 2016-09-01 00:59:59                     210.800909   \n",
       "2016-09-01 01:59:59 2016-09-01 01:59:59                     215.392455   \n",
       "2016-09-01 02:59:59 2016-09-01 02:59:59                     215.259946   \n",
       "2016-09-01 03:59:59 2016-09-01 03:59:59                     215.336236   \n",
       "2016-09-01 04:59:59 2016-09-01 04:59:59                     199.099327   \n",
       "\n",
       "                     primary_cleaner.input.depressant  \\\n",
       "date                                                    \n",
       "2016-09-01 00:59:59                         14.993118   \n",
       "2016-09-01 01:59:59                         14.987471   \n",
       "2016-09-01 02:59:59                         12.884934   \n",
       "2016-09-01 03:59:59                         12.006805   \n",
       "2016-09-01 04:59:59                         10.682530   \n",
       "\n",
       "                     primary_cleaner.input.feed_size  \\\n",
       "date                                                   \n",
       "2016-09-01 00:59:59                         8.080000   \n",
       "2016-09-01 01:59:59                         8.080000   \n",
       "2016-09-01 02:59:59                         7.786667   \n",
       "2016-09-01 03:59:59                         7.640000   \n",
       "2016-09-01 04:59:59                         7.530000   \n",
       "\n",
       "                     primary_cleaner.input.xanthate  \\\n",
       "date                                                  \n",
       "2016-09-01 00:59:59                        1.005021   \n",
       "2016-09-01 01:59:59                        0.990469   \n",
       "2016-09-01 02:59:59                        0.996043   \n",
       "2016-09-01 03:59:59                        0.863514   \n",
       "2016-09-01 04:59:59                        0.805575   \n",
       "\n",
       "                     primary_cleaner.state.floatbank8_a_air  \\\n",
       "date                                                          \n",
       "2016-09-01 00:59:59                             1398.981301   \n",
       "2016-09-01 01:59:59                             1398.777912   \n",
       "2016-09-01 02:59:59                             1398.493666   \n",
       "2016-09-01 03:59:59                             1399.618111   \n",
       "2016-09-01 04:59:59                             1401.268123   \n",
       "\n",
       "                     primary_cleaner.state.floatbank8_a_level  \\\n",
       "date                                                            \n",
       "2016-09-01 00:59:59                               -500.225577   \n",
       "2016-09-01 01:59:59                               -500.057435   \n",
       "2016-09-01 02:59:59                               -500.868360   \n",
       "2016-09-01 03:59:59                               -498.863574   \n",
       "2016-09-01 04:59:59                               -500.808305   \n",
       "\n",
       "                     primary_cleaner.state.floatbank8_b_air  \\\n",
       "date                                                          \n",
       "2016-09-01 00:59:59                             1399.144926   \n",
       "2016-09-01 01:59:59                             1398.055362   \n",
       "2016-09-01 02:59:59                             1398.860436   \n",
       "2016-09-01 03:59:59                             1397.440120   \n",
       "2016-09-01 04:59:59                             1398.128818   \n",
       "\n",
       "                     primary_cleaner.state.floatbank8_b_level  \\\n",
       "date                                                            \n",
       "2016-09-01 00:59:59                               -499.919735   \n",
       "2016-09-01 01:59:59                               -499.778182   \n",
       "2016-09-01 02:59:59                               -499.764529   \n",
       "2016-09-01 03:59:59                               -499.211024   \n",
       "2016-09-01 04:59:59                               -499.504543   \n",
       "\n",
       "                     primary_cleaner.state.floatbank8_c_air  ...  \\\n",
       "date                                                         ...   \n",
       "2016-09-01 00:59:59                             1400.102998  ...   \n",
       "2016-09-01 01:59:59                             1396.151033  ...   \n",
       "2016-09-01 02:59:59                             1398.075709  ...   \n",
       "2016-09-01 03:59:59                             1400.129303  ...   \n",
       "2016-09-01 04:59:59                             1402.172226  ...   \n",
       "\n",
       "                     secondary_cleaner.state.floatbank4_a_air  \\\n",
       "date                                                            \n",
       "2016-09-01 00:59:59                                 12.023554   \n",
       "2016-09-01 01:59:59                                 12.058140   \n",
       "2016-09-01 02:59:59                                 11.962366   \n",
       "2016-09-01 03:59:59                                 12.033091   \n",
       "2016-09-01 04:59:59                                 12.025367   \n",
       "\n",
       "                     secondary_cleaner.state.floatbank4_a_level  \\\n",
       "date                                                              \n",
       "2016-09-01 00:59:59                                 -497.795834   \n",
       "2016-09-01 01:59:59                                 -498.695773   \n",
       "2016-09-01 02:59:59                                 -498.767484   \n",
       "2016-09-01 03:59:59                                 -498.350935   \n",
       "2016-09-01 04:59:59                                 -500.786497   \n",
       "\n",
       "                     secondary_cleaner.state.floatbank4_b_air  \\\n",
       "date                                                            \n",
       "2016-09-01 00:59:59                                  8.016656   \n",
       "2016-09-01 01:59:59                                  8.130979   \n",
       "2016-09-01 02:59:59                                  8.096893   \n",
       "2016-09-01 03:59:59                                  8.074946   \n",
       "2016-09-01 04:59:59                                  8.054678   \n",
       "\n",
       "                     secondary_cleaner.state.floatbank4_b_level  \\\n",
       "date                                                              \n",
       "2016-09-01 00:59:59                                 -501.289139   \n",
       "2016-09-01 01:59:59                                 -499.634209   \n",
       "2016-09-01 02:59:59                                 -500.827423   \n",
       "2016-09-01 03:59:59                                 -499.474407   \n",
       "2016-09-01 04:59:59                                 -500.397500   \n",
       "\n",
       "                     secondary_cleaner.state.floatbank5_a_air  \\\n",
       "date                                                            \n",
       "2016-09-01 00:59:59                                  7.946562   \n",
       "2016-09-01 01:59:59                                  7.958270   \n",
       "2016-09-01 02:59:59                                  8.071056   \n",
       "2016-09-01 03:59:59                                  7.897085   \n",
       "2016-09-01 04:59:59                                  8.107890   \n",
       "\n",
       "                     secondary_cleaner.state.floatbank5_a_level  \\\n",
       "date                                                              \n",
       "2016-09-01 00:59:59                                 -432.317850   \n",
       "2016-09-01 01:59:59                                 -525.839648   \n",
       "2016-09-01 02:59:59                                 -500.801673   \n",
       "2016-09-01 03:59:59                                 -500.868509   \n",
       "2016-09-01 04:59:59                                 -509.526725   \n",
       "\n",
       "                     secondary_cleaner.state.floatbank5_b_air  \\\n",
       "date                                                            \n",
       "2016-09-01 00:59:59                                  4.872511   \n",
       "2016-09-01 01:59:59                                  4.878850   \n",
       "2016-09-01 02:59:59                                  4.905125   \n",
       "2016-09-01 03:59:59                                  4.931400   \n",
       "2016-09-01 04:59:59                                  4.957674   \n",
       "\n",
       "                     secondary_cleaner.state.floatbank5_b_level  \\\n",
       "date                                                              \n",
       "2016-09-01 00:59:59                                 -500.037437   \n",
       "2016-09-01 01:59:59                                 -500.162375   \n",
       "2016-09-01 02:59:59                                 -499.828510   \n",
       "2016-09-01 03:59:59                                 -499.963623   \n",
       "2016-09-01 04:59:59                                 -500.360026   \n",
       "\n",
       "                     secondary_cleaner.state.floatbank6_a_air  \\\n",
       "date                                                            \n",
       "2016-09-01 00:59:59                                 26.705889   \n",
       "2016-09-01 01:59:59                                 25.019940   \n",
       "2016-09-01 02:59:59                                 24.994862   \n",
       "2016-09-01 03:59:59                                 24.948919   \n",
       "2016-09-01 04:59:59                                 25.003331   \n",
       "\n",
       "                     secondary_cleaner.state.floatbank6_a_level  \n",
       "date                                                             \n",
       "2016-09-01 00:59:59                                 -499.709414  \n",
       "2016-09-01 01:59:59                                 -499.819438  \n",
       "2016-09-01 02:59:59                                 -500.622559  \n",
       "2016-09-01 03:59:59                                 -498.709987  \n",
       "2016-09-01 04:59:59                                 -500.856333  \n",
       "\n",
       "[5 rows x 53 columns]"
      ]
     },
     "execution_count": 17,
     "metadata": {},
     "output_type": "execute_result"
    }
   ],
   "source": [
    "target_column_names = list(data_test.columns)\n",
    "target_column_names.remove('date')\n",
    "for name in target_column_names:\n",
    "    print ('Пропусков в', name, ((data_test[name].isna().sum()/len(data_test[name]))*100).round(2), '%')\n",
    "\n",
    "data_test['date'] = pd.to_datetime(data_test['date'])\n",
    "data_test.index = data_test['date']\n",
    "data_test = data_test.interpolate(method='time')\n",
    "data_test.info()\n",
    "data_test.head()"
   ]
  },
  {
   "cell_type": "markdown",
   "metadata": {},
   "source": [
    "# 2. Анализ данных"
   ]
  },
  {
   "cell_type": "markdown",
   "metadata": {},
   "source": [
    "Посмотрим, как меняется концентрация металлов (Au, Ag, Pb) на различных этапах очистки."
   ]
  },
  {
   "cell_type": "code",
   "execution_count": 18,
   "metadata": {},
   "outputs": [
    {
     "name": "stdout",
     "output_type": "stream",
     "text": [
      "Средняя концентрация Au после флотации: 17.33\n",
      "Средняя концентрация Au после первого этапа очистки: 29.03\n",
      "Средняя концентрация Au после второго этапа очистки: 39.32\n",
      "Средняя концентрация Ag после флотации: 10.54\n",
      "Средняя концентрация Ag после первого этапа очистки: 7.39\n",
      "Средняя концентрация Ag после второго этапа очистки: 4.7\n",
      "Средняя концентрация Pb после флотации: 6.85\n",
      "Средняя концентрация Pb после первого этапа очистки: 8.51\n",
      "Средняя концентрация Pb после второго этапа очистки: 9.08\n"
     ]
    }
   ],
   "source": [
    "print ('Средняя концентрация Au после флотации:', data_train['rougher.output.concentrate_au'].mean().round(2))\n",
    "print ('Средняя концентрация Au после первого этапа очистки:', data_train['primary_cleaner.output.concentrate_au'].mean().round(2))\n",
    "print ('Средняя концентрация Au после второго этапа очистки:', data_train['final.output.concentrate_au'].mean().round(2))\n",
    "print ('Средняя концентрация Ag после флотации:', data_train['rougher.output.concentrate_ag'].mean().round(2))\n",
    "print ('Средняя концентрация Ag после первого этапа очистки:', data_train['primary_cleaner.output.concentrate_ag'].mean().round(2))\n",
    "print ('Средняя концентрация Ag после второго этапа очистки:', data_train['final.output.concentrate_ag'].mean().round(2))\n",
    "print ('Средняя концентрация Pb после флотации:', data_train['rougher.output.concentrate_pb'].mean().round(2))\n",
    "print ('Средняя концентрация Pb после первого этапа очистки:', data_train['primary_cleaner.output.concentrate_pb'].mean().round(2))\n",
    "print ('Средняя концентрация Pb после второго этапа очистки:', data_train['final.output.concentrate_pb'].mean().round(2))"
   ]
  },
  {
   "cell_type": "markdown",
   "metadata": {},
   "source": [
    "На каждом этапе концентрация золота(Au) и свинца(Pb) растет, а концентрация серебра (Ag) падает. Рассмотрим распределения этих концентраций."
   ]
  },
  {
   "cell_type": "code",
   "execution_count": 19,
   "metadata": {},
   "outputs": [
    {
     "data": {
      "text/plain": [
       "<matplotlib.axes._subplots.AxesSubplot at 0x7f5654982630>"
      ]
     },
     "execution_count": 19,
     "metadata": {},
     "output_type": "execute_result"
    }
   ],
   "source": [
    "data_train['rougher.output.concentrate_au'].hist(bins = 30, alpha =0.7)\n",
    "data_train['primary_cleaner.output.concentrate_au'].hist(bins = 30, alpha =0.7)\n",
    "data_train['final.output.concentrate_au'].hist(bins = 30, figsize=(10,5), alpha =0.7)"
   ]
  },
  {
   "cell_type": "code",
   "execution_count": 20,
   "metadata": {},
   "outputs": [
    {
     "data": {
      "text/plain": [
       "<matplotlib.axes._subplots.AxesSubplot at 0x7f5653034080>"
      ]
     },
     "execution_count": 20,
     "metadata": {},
     "output_type": "execute_result"
    },
    {
     "data": {
      "image/png": "[encoded data removed]",
      "text/plain": [
       "<Figure size 720x360 with 1 Axes>"
      ]
     },
     "metadata": {
      "needs_background": "light"
     },
     "output_type": "display_data"
    }
   ],
   "source": [
    "data_train['rougher.output.concentrate_ag'].hist(bins = 50, alpha =0.7)\n",
    "data_train['primary_cleaner.output.concentrate_ag'].hist(bins = 50, alpha =0.7)\n",
    "data_train['final.output.concentrate_ag'].hist(bins = 50, figsize=(10,5), alpha =0.7)"
   ]
  },
  {
   "cell_type": "code",
   "execution_count": 21,
   "metadata": {},
   "outputs": [
    {
     "data": {
      "text/plain": [
       "<matplotlib.axes._subplots.AxesSubplot at 0x7f565338c390>"
      ]
     },
     "execution_count": 21,
     "metadata": {},
     "output_type": "execute_result"
    },
    {
     "data": {
      "image/png": "[encoded data removed]",
      "text/plain": [
       "<Figure size 720x360 with 1 Axes>"
      ]
     },
     "metadata": {
      "needs_background": "light"
     },
     "output_type": "display_data"
    }
   ],
   "source": [
    "data_train['rougher.output.concentrate_pb'].hist(bins = 50, alpha =0.7)\n",
    "data_train['primary_cleaner.output.concentrate_pb'].hist(bins = 50, alpha =0.7)\n",
    "data_train['final.output.concentrate_pb'].hist(bins = 50,figsize=(10,5), alpha =0.7)"
   ]
  },
  {
   "cell_type": "markdown",
   "metadata": {},
   "source": [
    "Распределения близки к нормальным, при этом на каждом этапе присутвует аномально большое количество значений, равных нулю. В дальнейшем эти данные нужно убрать из обучающей выборки, для более эффективного обучения модели."
   ]
  },
  {
   "cell_type": "markdown",
   "metadata": {},
   "source": [
    "Сравним распределения размеров гранул сырья на обучающей и тестовой выборках. "
   ]
  },
  {
   "cell_type": "code",
   "execution_count": 22,
   "metadata": {},
   "outputs": [
    {
     "data": {
      "text/plain": [
       "count    16860.000000\n",
       "mean        59.152776\n",
       "std         26.131277\n",
       "min          9.659576\n",
       "25%         47.540138\n",
       "50%         54.029671\n",
       "75%         65.272775\n",
       "max        484.967466\n",
       "Name: rougher.input.feed_size, dtype: float64"
      ]
     },
     "execution_count": 22,
     "metadata": {},
     "output_type": "execute_result"
    }
   ],
   "source": [
    "data_train['rougher.input.feed_size'].describe()"
   ]
  },
  {
   "cell_type": "code",
   "execution_count": 23,
   "metadata": {},
   "outputs": [
    {
     "data": {
      "text/plain": [
       "count    5856.000000\n",
       "mean       55.886800\n",
       "std        22.704970\n",
       "min         0.046369\n",
       "25%        43.865121\n",
       "50%        49.964796\n",
       "75%        61.615634\n",
       "max       477.445473\n",
       "Name: rougher.input.feed_size, dtype: float64"
      ]
     },
     "execution_count": 23,
     "metadata": {},
     "output_type": "execute_result"
    }
   ],
   "source": [
    "data_test['rougher.input.feed_size'].describe()"
   ]
  },
  {
   "cell_type": "markdown",
   "metadata": {},
   "source": [
    "Распределения отличаются несильно."
   ]
  },
  {
   "cell_type": "markdown",
   "metadata": {},
   "source": [
    "Теперь исследуем суммарную концентрацию всех веществ на разных стадиях: в сырье, в черновом и финальном концентратах."
   ]
  },
  {
   "cell_type": "code",
   "execution_count": 24,
   "metadata": {},
   "outputs": [],
   "source": [
    "data_train['rougher.sum_concentrate'] = data_train['rougher.output.concentrate_ag']+data_train['rougher.output.concentrate_pb']+data_train['rougher.output.concentrate_sol']+data_train['rougher.output.concentrate_au']\n",
    "data_train['primary_cleaner.sum_concentrate'] = data_train['primary_cleaner.output.concentrate_ag']+data_train['primary_cleaner.output.concentrate_pb']+data_train['primary_cleaner.output.concentrate_sol']+data_train['primary_cleaner.output.concentrate_au']\n",
    "data_train['final.sum_concentrate'] = data_train['final.output.concentrate_ag']+data_train['final.output.concentrate_pb']+data_train['final.output.concentrate_sol']+data_train['final.output.concentrate_au']"
   ]
  },
  {
   "cell_type": "code",
   "execution_count": 25,
   "metadata": {},
   "outputs": [
    {
     "data": {
      "text/plain": [
       "<matplotlib.axes._subplots.AxesSubplot at 0x7f56548b5160>"
      ]
     },
     "execution_count": 25,
     "metadata": {},
     "output_type": "execute_result"
    },
    {
     "data": {
      "image/png": "[encoded data removed]",
      "text/plain": [
       "<Figure size 720x360 with 1 Axes>"
      ]
     },
     "metadata": {
      "needs_background": "light"
     },
     "output_type": "display_data"
    }
   ],
   "source": [
    "data_train['rougher.sum_concentrate'].hist(bins=100, figsize=(10,5))"
   ]
  },
  {
   "cell_type": "code",
   "execution_count": 26,
   "metadata": {},
   "outputs": [
    {
     "data": {
      "text/plain": [
       "<matplotlib.axes._subplots.AxesSubplot at 0x7f5654810a20>"
      ]
     },
     "execution_count": 26,
     "metadata": {},
     "output_type": "execute_result"
    },
    {
     "data": {
      "image/png": "[encoded data removed]",
      "text/plain": [
       "<Figure size 720x360 with 1 Axes>"
      ]
     },
     "metadata": {
      "needs_background": "light"
     },
     "output_type": "display_data"
    }
   ],
   "source": [
    "data_train['rougher.sum_concentrate'].hist(bins=100, figsize=(10,5), range= (0,20))"
   ]
  },
  {
   "cell_type": "code",
   "execution_count": 27,
   "metadata": {},
   "outputs": [
    {
     "data": {
      "text/plain": [
       "<matplotlib.axes._subplots.AxesSubplot at 0x7f565467e630>"
      ]
     },
     "execution_count": 27,
     "metadata": {},
     "output_type": "execute_result"
    },
    {
     "data": {
      "image/png": "[encoded data removed]",
      "text/plain": [
       "<Figure size 720x360 with 1 Axes>"
      ]
     },
     "metadata": {
      "needs_background": "light"
     },
     "output_type": "display_data"
    }
   ],
   "source": [
    "data_train['primary_cleaner.sum_concentrate'].hist(bins=100, figsize=(10,5))"
   ]
  },
  {
   "cell_type": "code",
   "execution_count": 28,
   "metadata": {},
   "outputs": [
    {
     "data": {
      "text/plain": [
       "<matplotlib.axes._subplots.AxesSubplot at 0x7f56546475c0>"
      ]
     },
     "execution_count": 28,
     "metadata": {},
     "output_type": "execute_result"
    },
    {
     "data": {
      "image/png": "[encoded data removed]",
      "text/plain": [
       "<Figure size 720x360 with 1 Axes>"
      ]
     },
     "metadata": {
      "needs_background": "light"
     },
     "output_type": "display_data"
    }
   ],
   "source": [
    "data_train['final.sum_concentrate'].hist(bins=100, figsize=(10,5))"
   ]
  },
  {
   "cell_type": "markdown",
   "metadata": {},
   "source": [
    "Во всех распределениях присутвует аномально большое количество значений, близких к 0. Удалим аномалии."
   ]
  },
  {
   "cell_type": "code",
   "execution_count": 29,
   "metadata": {},
   "outputs": [],
   "source": [
    "data_train = data_train[(data_train['final.sum_concentrate']>1)&\n",
    "                        (data_train['primary_cleaner.sum_concentrate']>1)&\n",
    "                        (data_train['rougher.sum_concentrate']>1)]"
   ]
  },
  {
   "cell_type": "code",
   "execution_count": 30,
   "metadata": {},
   "outputs": [
    {
     "data": {
      "text/plain": [
       "<matplotlib.axes._subplots.AxesSubplot at 0x7f565434fd68>"
      ]
     },
     "execution_count": 30,
     "metadata": {},
     "output_type": "execute_result"
    },
    {
     "data": {
      "image/png": "[encoded data removed]",
      "text/plain": [
       "<Figure size 720x360 with 1 Axes>"
      ]
     },
     "metadata": {
      "needs_background": "light"
     },
     "output_type": "display_data"
    }
   ],
   "source": [
    "data_train['rougher.sum_concentrate'].hist(bins=100, figsize=(10,5),alpha=0.7)\n",
    "data_train['primary_cleaner.sum_concentrate'].hist(bins=100, figsize=(10,5),alpha=0.7)\n",
    "data_train['final.sum_concentrate'].hist(bins=100, figsize=(10,5),alpha=0.7)"
   ]
  },
  {
   "cell_type": "markdown",
   "metadata": {},
   "source": [
    "Чтобы правильно объяснить природу появления таких аномальных значений, стоит проконсультироваться со специалистами по процессу очистки."
   ]
  },
  {
   "cell_type": "markdown",
   "metadata": {},
   "source": [
    "# 3. Модель"
   ]
  },
  {
   "cell_type": "markdown",
   "metadata": {},
   "source": [
    "Подготовим признаки исходя из того, что на начальном этапе нам доступны признаки более поздних этапов. \n",
    "В противном случае нам бы пришлось делить признаки по этапам (на начальном этапе мы имеем только rougher признакие, на следующем rougher + primary_cleaner и тд)"
   ]
  },
  {
   "cell_type": "code",
   "execution_count": 25,
   "metadata": {},
   "outputs": [],
   "source": [
    "target_names = list(set(data_train.columns)-set(data_test.columns))\n",
    "#выделим признаки\n",
    "features = data_train.drop(target_names, axis=1).drop('date', axis=1)\n",
    "target_rougher = data_train['rougher.output.recovery']\n",
    "target_final = data_train['final.output.recovery']"
   ]
  },
  {
   "cell_type": "code",
   "execution_count": 26,
   "metadata": {},
   "outputs": [],
   "source": [
    "import numpy as np\n",
    "def smape(target, prediction):\n",
    "    return 100/len(target) * np.sum(2*np.abs(target-prediction) / (np.abs(target) + np.abs(prediction)))"
   ]
  },
  {
   "cell_type": "code",
   "execution_count": 27,
   "metadata": {},
   "outputs": [],
   "source": [
    "def total_smape(rougher, final):\n",
    "    total = rougher*0.25+final*0.75\n",
    "    return total"
   ]
  },
  {
   "cell_type": "code",
   "execution_count": 28,
   "metadata": {},
   "outputs": [],
   "source": [
    "from sklearn.model_selection import train_test_split\n",
    "features_train, features_valid, target_r_train, target_r_valid,target_f_train, target_f_valid = train_test_split(features, target_rougher, target_final, test_size=0.25, random_state=12345)"
   ]
  },
  {
   "cell_type": "markdown",
   "metadata": {},
   "source": [
    "Обучим модели линейной регрессии."
   ]
  },
  {
   "cell_type": "code",
   "execution_count": 29,
   "metadata": {},
   "outputs": [
    {
     "name": "stdout",
     "output_type": "stream",
     "text": [
      "R2 = 0.4682769962020987\n",
      "sMAPE = 5.137282946333898\n"
     ]
    }
   ],
   "source": [
    "from sklearn.model_selection import cross_val_score\n",
    "from sklearn.metrics import make_scorer\n",
    "from sklearn.ensemble import RandomForestRegressor\n",
    "from sklearn.tree import DecisionTreeRegressor\n",
    "from sklearn.linear_model import LinearRegression\n",
    "from sklearn.metrics import r2_score\n",
    "model_rougher_lr = LinearRegression()\n",
    "model_rougher_lr.fit(features_train,target_r_train)\n",
    "predicted_valid=model_rougher_lr.predict(features_valid)\n",
    "print ('R2 =', r2_score(target_r_valid,predicted_valid))\n",
    "print ('sMAPE =', smape(target_r_valid,predicted_valid))\n",
    "sMAPE_r = smape(target_r_valid,predicted_valid)"
   ]
  },
  {
   "cell_type": "code",
   "execution_count": 30,
   "metadata": {},
   "outputs": [
    {
     "name": "stdout",
     "output_type": "stream",
     "text": [
      "R2 = 0.33311031314856665\n",
      "sMAPE = 8.482692448024\n"
     ]
    }
   ],
   "source": [
    "model_final_lr = LinearRegression()\n",
    "model_final_lr.fit(features_train,target_f_train)\n",
    "predicted_valid=model_final_lr.predict(features_valid)\n",
    "print ('R2 =', r2_score(target_f_valid,predicted_valid))\n",
    "print ('sMAPE =', smape(target_f_valid,predicted_valid))\n",
    "sMAPE_f = smape(target_f_valid,predicted_valid)"
   ]
  },
  {
   "cell_type": "code",
   "execution_count": 31,
   "metadata": {},
   "outputs": [
    {
     "name": "stdout",
     "output_type": "stream",
     "text": [
      "Total sMAPE = 7.6463400726014745\n"
     ]
    }
   ],
   "source": [
    "print ('Total sMAPE =', total_smape(sMAPE_r, sMAPE_f))"
   ]
  },
  {
   "cell_type": "markdown",
   "metadata": {},
   "source": [
    "Теперь используем модель решающего дерева."
   ]
  },
  {
   "cell_type": "code",
   "execution_count": 32,
   "metadata": {},
   "outputs": [
    {
     "name": "stdout",
     "output_type": "stream",
     "text": [
      "R2 = 0.17693137466306497\n",
      "sMAPE = 6.6918484558347044\n",
      "\n",
      "R2 = 0.27980588208221924\n",
      "sMAPE = 6.01431552793464\n",
      "\n",
      "R2 = 0.3513501238531469\n",
      "sMAPE = 5.7299993373403275\n",
      "\n",
      "R2 = 0.41502165100270927\n",
      "sMAPE = 5.283358196476235\n",
      "\n",
      "R2 = 0.46835694059971056\n",
      "sMAPE = 5.044989027198118\n",
      "\n",
      "R2 = 0.4616473434681875\n",
      "sMAPE = 4.949593079471745\n",
      "\n",
      "R2 = 0.5004995009313845\n",
      "sMAPE = 4.662112225707465\n",
      "\n",
      "R2 = 0.5307318307726576\n",
      "sMAPE = 4.509028043055204\n",
      "\n",
      "R2 = 0.46137714820420417\n",
      "sMAPE = 4.576043396769444\n",
      "\n",
      "R2 = 0.469606632328336\n",
      "sMAPE = 4.4164441797751754\n",
      "\n",
      "R2 = 0.5213852295928516\n",
      "sMAPE = 4.14402390035948\n",
      "\n",
      "R2 = 0.5036200652881604\n",
      "sMAPE = 4.115460724761451\n",
      "\n",
      "R2 = 0.47488314987737945\n",
      "sMAPE = 4.195420168004946\n",
      "\n",
      "R2 = 0.500778729812423\n",
      "sMAPE = 4.112865070693074\n",
      "\n",
      "Лучший результат 4.112865070693074\n"
     ]
    }
   ],
   "source": [
    "best_result = 200\n",
    "for i in range (1,15):\n",
    "    model_rougher_dt = DecisionTreeRegressor(random_state = 12345, max_depth = i)\n",
    "    model_rougher_dt.fit(features_train,target_r_train)\n",
    "    predicted_valid=model_rougher_dt.predict(features_valid)\n",
    "    print ('R2 =', r2_score(target_r_valid,predicted_valid))\n",
    "    print ('sMAPE =', smape(target_r_valid,predicted_valid))\n",
    "    print ()\n",
    "    sMAPE_r = smape(target_r_valid,predicted_valid)\n",
    "    if sMAPE_r < best_result:\n",
    "        best_result = sMAPE_r\n",
    "print ('Лучший результат', best_result)\n",
    "sMAPE_r = best_result"
   ]
  },
  {
   "cell_type": "code",
   "execution_count": 33,
   "metadata": {},
   "outputs": [
    {
     "name": "stdout",
     "output_type": "stream",
     "text": [
      "R2 = 0.1187314367626554\n",
      "sMAPE = 10.067973845060427\n",
      "\n",
      "R2 = 0.2064253398851198\n",
      "sMAPE = 9.25362534687284\n",
      "\n",
      "R2 = 0.2589260362254203\n",
      "sMAPE = 8.934170223632378\n",
      "\n",
      "R2 = 0.30313144420794025\n",
      "sMAPE = 8.650407449395479\n",
      "\n",
      "R2 = 0.35161717682586024\n",
      "sMAPE = 8.363645549885057\n",
      "\n",
      "R2 = 0.3642355608755018\n",
      "sMAPE = 8.022746947710175\n",
      "\n",
      "R2 = 0.359132609933157\n",
      "sMAPE = 8.02200799035851\n",
      "\n",
      "R2 = 0.3657120963251357\n",
      "sMAPE = 7.855422606608246\n",
      "\n",
      "R2 = 0.37114298148578595\n",
      "sMAPE = 7.723336826394349\n",
      "\n",
      "R2 = 0.3398147924181245\n",
      "sMAPE = 7.85682966099147\n",
      "\n",
      "R2 = 0.3347990164362641\n",
      "sMAPE = 7.845174910970102\n",
      "\n",
      "R2 = 0.36053401995986656\n",
      "sMAPE = 7.723747436574688\n",
      "\n",
      "R2 = 0.34890808413776464\n",
      "sMAPE = 7.724118623463042\n",
      "\n",
      "R2 = 0.31574444633510157\n",
      "sMAPE = 7.8947235058766125\n",
      "\n",
      "7.723336826394349\n"
     ]
    }
   ],
   "source": [
    "best_result = 200\n",
    "for i in range (1,15):\n",
    "    model_final_dt = DecisionTreeRegressor(random_state = 12345, max_depth = i)\n",
    "    model_final_dt.fit(features_train,target_f_train)\n",
    "    predicted_valid=model_final_dt.predict(features_valid)\n",
    "    print ('R2 =', r2_score(target_f_valid,predicted_valid))\n",
    "    print ('sMAPE =', smape(target_f_valid,predicted_valid))\n",
    "    print ()\n",
    "    sMAPE_f = smape(target_f_valid,predicted_valid)\n",
    "    if sMAPE_f < best_result:\n",
    "        best_result = sMAPE_f\n",
    "print (best_result)\n",
    "sMAPE_f = best_result"
   ]
  },
  {
   "cell_type": "code",
   "execution_count": 34,
   "metadata": {},
   "outputs": [
    {
     "name": "stdout",
     "output_type": "stream",
     "text": [
      "Total sMAPE = 6.820718887469031\n"
     ]
    }
   ],
   "source": [
    "print ('Total sMAPE =', total_smape(sMAPE_r, sMAPE_f))"
   ]
  },
  {
   "cell_type": "markdown",
   "metadata": {},
   "source": [
    "Теперь используем модель случайного леса."
   ]
  },
  {
   "cell_type": "code",
   "execution_count": 35,
   "metadata": {},
   "outputs": [
    {
     "name": "stdout",
     "output_type": "stream",
     "text": [
      "N_est: 200 Max_depth 20\n",
      "R2 = 0.693857994442596\n",
      "sMAPE = 3.106275657567864\n",
      "\n",
      "Лучший результат sMAPE: 3.106275657567864 при 200 оценщиках и макисмальной глубине 20\n"
     ]
    }
   ],
   "source": [
    "best_result = 200\n",
    "best_n_of_est = 10\n",
    "best_depth = 0\n",
    "for n in range (200,210,50):\n",
    "    for i in range (20,21,5):    \n",
    "        model_rougher_rfr = RandomForestRegressor(n_estimators=n, max_depth = i, random_state = 12345)\n",
    "        model_rougher_rfr.fit(features_train,target_r_train)\n",
    "        predicted_valid=model_rougher_rfr.predict(features_valid)\n",
    "        print ('N_est:', n, 'Max_depth', i)\n",
    "        print ('R2 =', r2_score(target_r_valid,predicted_valid))\n",
    "        print ('sMAPE =', smape(target_r_valid,predicted_valid))\n",
    "        print ()\n",
    "        sMAPE_r = smape(target_r_valid,predicted_valid)\n",
    "        if sMAPE_r < best_result:\n",
    "            best_result = sMAPE_r\n",
    "            best_n_of_est = n\n",
    "            best_depth = i\n",
    "            best_model_rougher_rfr = model_rougher_rfr\n",
    "print ('Лучший результат sMAPE:', best_result,'при', best_n_of_est, 'оценщиках и макисмальной глубине', best_depth)\n",
    "sMAPE_r = best_result"
   ]
  },
  {
   "cell_type": "code",
   "execution_count": 36,
   "metadata": {},
   "outputs": [
    {
     "name": "stdout",
     "output_type": "stream",
     "text": [
      "N_est: 200 Max_depth 20\n",
      "R2 = 0.5969924503899438\n",
      "sMAPE = 6.05389538598529\n",
      "\n",
      "Лучший результат sMAPE: 6.05389538598529 при 200 оценщиках и макисмальной глубине 20\n"
     ]
    }
   ],
   "source": [
    "best_result = 200\n",
    "best_n_of_est = 10\n",
    "best_depth = 0\n",
    "for n in range (200,210,50):\n",
    "    for i in range (20,21,5):    \n",
    "        model_final_rfr = RandomForestRegressor(n_estimators=n, max_depth = i, random_state = 12345)\n",
    "        model_final_rfr.fit(features_train,target_f_train)\n",
    "        predicted_valid=model_final_rfr.predict(features_valid)\n",
    "        print ('N_est:', n, 'Max_depth', i)\n",
    "        print ('R2 =', r2_score(target_f_valid,predicted_valid))\n",
    "        print ('sMAPE =', smape(target_f_valid,predicted_valid))\n",
    "        print ()\n",
    "        sMAPE_f = smape(target_f_valid,predicted_valid)\n",
    "        if sMAPE_f < best_result:\n",
    "            best_result = sMAPE_f\n",
    "            best_n_of_est = n\n",
    "            best_depth = i\n",
    "            best_model_final_rfr = model_final_rfr\n",
    "print ('Лучший результат sMAPE:', best_result,'при', best_n_of_est, 'оценщиках и макисмальной глубине', best_depth)\n",
    "sMAPE_f = best_result"
   ]
  },
  {
   "cell_type": "code",
   "execution_count": 37,
   "metadata": {},
   "outputs": [
    {
     "name": "stdout",
     "output_type": "stream",
     "text": [
      "Total sMAPE = 5.316990453880933\n"
     ]
    }
   ],
   "source": [
    "print ('Total sMAPE =', total_smape(sMAPE_r, sMAPE_f))"
   ]
  },
  {
   "cell_type": "markdown",
   "metadata": {},
   "source": [
    "Минимальный итоговый sMAPE был получен на модели случайного леса."
   ]
  },
  {
   "cell_type": "markdown",
   "metadata": {},
   "source": [
    "Проверим качество моделей с помощью кросс-валидации."
   ]
  },
  {
   "cell_type": "code",
   "execution_count": 38,
   "metadata": {},
   "outputs": [
    {
     "name": "stdout",
     "output_type": "stream",
     "text": [
      "Средняя оценка качества модели: 7.694858272388032\n"
     ]
    }
   ],
   "source": [
    "#в качестве метрики оценки будем использовать sMAPE\n",
    "from sklearn.metrics import make_scorer\n",
    "neg_smape = make_scorer(smape)\n",
    "\n",
    "model_rougher_lr = LinearRegression()\n",
    "final_score = pd.Series(cross_val_score(model_rougher_lr, features, target_rougher, cv=5, scoring = neg_smape)).mean()\n",
    "print('Средняя оценка качества модели:', final_score)"
   ]
  },
  {
   "cell_type": "code",
   "execution_count": 39,
   "metadata": {},
   "outputs": [
    {
     "name": "stdout",
     "output_type": "stream",
     "text": [
      "Средняя оценка качества модели: 11.525571974447006\n"
     ]
    }
   ],
   "source": [
    "model_final_lr = LinearRegression()\n",
    "final_score = pd.Series(cross_val_score(model_final_lr, features, target_final, cv=5, scoring = neg_smape)).mean()\n",
    "print('Средняя оценка качества модели:', final_score)"
   ]
  },
  {
   "cell_type": "code",
   "execution_count": 40,
   "metadata": {},
   "outputs": [
    {
     "name": "stdout",
     "output_type": "stream",
     "text": [
      "Средняя оценка качества модели: 14.111141986379337\n"
     ]
    }
   ],
   "source": [
    "model_rougher_dt = DecisionTreeRegressor(random_state = 12345)\n",
    "final_score = pd.Series(cross_val_score(model_rougher_dt, features, target_rougher, cv=5, scoring = neg_smape)).mean()\n",
    "print('Средняя оценка качества модели:', final_score)"
   ]
  },
  {
   "cell_type": "code",
   "execution_count": 41,
   "metadata": {},
   "outputs": [
    {
     "name": "stdout",
     "output_type": "stream",
     "text": [
      "Средняя оценка качества модели: 16.976062744579334\n"
     ]
    }
   ],
   "source": [
    "model_final_dt = DecisionTreeRegressor(random_state = 12345)\n",
    "final_score = pd.Series(cross_val_score(model_final_dt, features, target_final, cv=5, scoring = neg_smape)).mean()\n",
    "print('Средняя оценка качества модели:', final_score)"
   ]
  },
  {
   "cell_type": "code",
   "execution_count": 42,
   "metadata": {},
   "outputs": [
    {
     "name": "stdout",
     "output_type": "stream",
     "text": [
      "Средняя оценка качества модели: 7.481695958559752\n"
     ]
    }
   ],
   "source": [
    "model_rougher_rf = RandomForestRegressor(random_state = 12345, n_estimators = 200, max_depth = 20)\n",
    "final_score = pd.Series(cross_val_score(model_rougher_rf, features, target_rougher, cv=5, scoring = neg_smape)).mean()\n",
    "print('Средняя оценка качества модели:', final_score)"
   ]
  },
  {
   "cell_type": "code",
   "execution_count": 43,
   "metadata": {},
   "outputs": [
    {
     "name": "stdout",
     "output_type": "stream",
     "text": [
      "Средняя оценка качества модели: 16.976062744579334\n"
     ]
    }
   ],
   "source": [
    "model_final_rf = RandomForestRegressor(random_state = 12345, n_estimators = 200, max_depth =20)\n",
    "final_score = pd.Series(cross_val_score(model_final_dt, features, target_final, cv=5, scoring = neg_smape)).mean()\n",
    "print('Средняя оценка качества модели:', final_score)"
   ]
  },
  {
   "cell_type": "markdown",
   "metadata": {},
   "source": [
    "Для тестирования модели на тестовой выборке, возьмем целевые признаки из полной таблицы."
   ]
  },
  {
   "cell_type": "code",
   "execution_count": 44,
   "metadata": {},
   "outputs": [],
   "source": [
    "data_test.index= range (0,len(data_test))"
   ]
  },
  {
   "cell_type": "code",
   "execution_count": 45,
   "metadata": {},
   "outputs": [],
   "source": [
    "#на данном этапе можем выделить признаки \n",
    "features_test = data_test.drop('date', axis =1)\n",
    "#теперь можем добавить целевые признаки\n",
    "data_full_targets = data_full.loc[:,['date','rougher.output.recovery','final.output.recovery']]\n",
    "data_full_targets['date'] = pd.to_datetime(data_full_targets['date'])\n",
    "data_test = data_test.merge(data_full_targets, on='date', how='inner')"
   ]
  },
  {
   "cell_type": "code",
   "execution_count": 46,
   "metadata": {},
   "outputs": [
    {
     "name": "stdout",
     "output_type": "stream",
     "text": [
      "<class 'pandas.core.frame.DataFrame'>\n",
      "Int64Index: 5856 entries, 0 to 5855\n",
      "Data columns (total 55 columns):\n",
      "date                                          5856 non-null datetime64[ns]\n",
      "primary_cleaner.input.sulfate                 5856 non-null float64\n",
      "primary_cleaner.input.depressant              5856 non-null float64\n",
      "primary_cleaner.input.feed_size               5856 non-null float64\n",
      "primary_cleaner.input.xanthate                5856 non-null float64\n",
      "primary_cleaner.state.floatbank8_a_air        5856 non-null float64\n",
      "primary_cleaner.state.floatbank8_a_level      5856 non-null float64\n",
      "primary_cleaner.state.floatbank8_b_air        5856 non-null float64\n",
      "primary_cleaner.state.floatbank8_b_level      5856 non-null float64\n",
      "primary_cleaner.state.floatbank8_c_air        5856 non-null float64\n",
      "primary_cleaner.state.floatbank8_c_level      5856 non-null float64\n",
      "primary_cleaner.state.floatbank8_d_air        5856 non-null float64\n",
      "primary_cleaner.state.floatbank8_d_level      5856 non-null float64\n",
      "rougher.input.feed_ag                         5856 non-null float64\n",
      "rougher.input.feed_pb                         5856 non-null float64\n",
      "rougher.input.feed_rate                       5856 non-null float64\n",
      "rougher.input.feed_size                       5856 non-null float64\n",
      "rougher.input.feed_sol                        5856 non-null float64\n",
      "rougher.input.feed_au                         5856 non-null float64\n",
      "rougher.input.floatbank10_sulfate             5856 non-null float64\n",
      "rougher.input.floatbank10_xanthate            5856 non-null float64\n",
      "rougher.input.floatbank11_sulfate             5856 non-null float64\n",
      "rougher.input.floatbank11_xanthate            5856 non-null float64\n",
      "rougher.state.floatbank10_a_air               5856 non-null float64\n",
      "rougher.state.floatbank10_a_level             5856 non-null float64\n",
      "rougher.state.floatbank10_b_air               5856 non-null float64\n",
      "rougher.state.floatbank10_b_level             5856 non-null float64\n",
      "rougher.state.floatbank10_c_air               5856 non-null float64\n",
      "rougher.state.floatbank10_c_level             5856 non-null float64\n",
      "rougher.state.floatbank10_d_air               5856 non-null float64\n",
      "rougher.state.floatbank10_d_level             5856 non-null float64\n",
      "rougher.state.floatbank10_e_air               5856 non-null float64\n",
      "rougher.state.floatbank10_e_level             5856 non-null float64\n",
      "rougher.state.floatbank10_f_air               5856 non-null float64\n",
      "rougher.state.floatbank10_f_level             5856 non-null float64\n",
      "secondary_cleaner.state.floatbank2_a_air      5856 non-null float64\n",
      "secondary_cleaner.state.floatbank2_a_level    5856 non-null float64\n",
      "secondary_cleaner.state.floatbank2_b_air      5856 non-null float64\n",
      "secondary_cleaner.state.floatbank2_b_level    5856 non-null float64\n",
      "secondary_cleaner.state.floatbank3_a_air      5856 non-null float64\n",
      "secondary_cleaner.state.floatbank3_a_level    5856 non-null float64\n",
      "secondary_cleaner.state.floatbank3_b_air      5856 non-null float64\n",
      "secondary_cleaner.state.floatbank3_b_level    5856 non-null float64\n",
      "secondary_cleaner.state.floatbank4_a_air      5856 non-null float64\n",
      "secondary_cleaner.state.floatbank4_a_level    5856 non-null float64\n",
      "secondary_cleaner.state.floatbank4_b_air      5856 non-null float64\n",
      "secondary_cleaner.state.floatbank4_b_level    5856 non-null float64\n",
      "secondary_cleaner.state.floatbank5_a_air      5856 non-null float64\n",
      "secondary_cleaner.state.floatbank5_a_level    5856 non-null float64\n",
      "secondary_cleaner.state.floatbank5_b_air      5856 non-null float64\n",
      "secondary_cleaner.state.floatbank5_b_level    5856 non-null float64\n",
      "secondary_cleaner.state.floatbank6_a_air      5856 non-null float64\n",
      "secondary_cleaner.state.floatbank6_a_level    5856 non-null float64\n",
      "rougher.output.recovery                       5310 non-null float64\n",
      "final.output.recovery                         5414 non-null float64\n",
      "dtypes: datetime64[ns](1), float64(54)\n",
      "memory usage: 2.5 MB\n"
     ]
    }
   ],
   "source": [
    "data_test.info()"
   ]
  },
  {
   "cell_type": "markdown",
   "metadata": {},
   "source": [
    "В целевых признаках присутвуют пропуски, заменим с помощью метода interpolate."
   ]
  },
  {
   "cell_type": "code",
   "execution_count": 47,
   "metadata": {},
   "outputs": [],
   "source": [
    "data_test.index = data_test['date']\n",
    "data_test = data_test.interpolate(method = 'time')"
   ]
  },
  {
   "cell_type": "code",
   "execution_count": 48,
   "metadata": {},
   "outputs": [],
   "source": [
    "target_rough_test = data_test['rougher.output.recovery']\n",
    "target_final_test = data_test['final.output.recovery']"
   ]
  },
  {
   "cell_type": "code",
   "execution_count": 49,
   "metadata": {},
   "outputs": [
    {
     "name": "stdout",
     "output_type": "stream",
     "text": [
      "sMAPE = 9.364872572684206\n"
     ]
    }
   ],
   "source": [
    "predicted_valid_r = best_model_rougher_rfr.predict(features_test)\n",
    "print ('sMAPE =', smape(target_rough_test,predicted_valid_r))\n",
    "sMAPE_r = smape(target_rough_test,predicted_valid_r)"
   ]
  },
  {
   "cell_type": "code",
   "execution_count": 50,
   "metadata": {},
   "outputs": [
    {
     "name": "stdout",
     "output_type": "stream",
     "text": [
      "sMAPE = 15.395206277908393\n",
      "\n"
     ]
    }
   ],
   "source": [
    "predicted_valid_f = best_model_final_rfr.predict(features_test)\n",
    "print ('sMAPE =', smape(target_final_test,predicted_valid_f))\n",
    "print ()\n",
    "sMAPE_f = smape(target_final_test,predicted_valid_f)"
   ]
  },
  {
   "cell_type": "code",
   "execution_count": 51,
   "metadata": {},
   "outputs": [
    {
     "name": "stdout",
     "output_type": "stream",
     "text": [
      "Total sMAPE = 13.887622851602346\n"
     ]
    }
   ],
   "source": [
    "print ('Total sMAPE =', total_smape(sMAPE_r, sMAPE_f))"
   ]
  },
  {
   "cell_type": "markdown",
   "metadata": {},
   "source": [
    "На тестовой выборке получено итоговое sMAPE = 13.89 (при замене пропусков медианой 11.27%). "
   ]
  }
 ],
 "metadata": {
  "kernelspec": {
   "display_name": "Python 3",
   "language": "python",
   "name": "python3"
  },
  "language_info": {
   "codemirror_mode": {
    "name": "ipython",
    "version": 3
   },
   "file_extension": ".py",
   "mimetype": "text/x-python",
   "name": "python",
   "nbconvert_exporter": "python",
   "pygments_lexer": "ipython3",
   "version": "3.7.6"
  }
 },
 "nbformat": 4,
 "nbformat_minor": 2
}
